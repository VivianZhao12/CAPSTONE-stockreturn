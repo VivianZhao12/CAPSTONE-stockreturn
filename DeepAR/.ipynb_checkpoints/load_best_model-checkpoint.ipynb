{
 "cells": [
  {
   "cell_type": "code",
   "execution_count": null,
   "metadata": {},
   "outputs": [
    {
     "name": "stdout",
     "output_type": "stream",
     "text": [
      "Loaded model parameters.\n"
     ]
    }
   ],
   "source": [
    "import torch\n",
    "import os\n",
    "import json\n",
    "import utils\n",
    "import model.net as net  # Ensure this matches your model definition\n",
    "import numpy as np\n",
    "import pandas as pd\n",
    "import torch\n",
    "from scipy import stats\n",
    "import numpy as np\n",
    "import pandas as pd\n",
    "import torch\n",
    "import matplotlib.pyplot as plt\n",
    "from scipy import stats\n",
    "from model import net\n",
    "import utils\n",
    "import matplotlib\n",
    "matplotlib.use(\"TkAgg\")  # Use a GUI-compatible backend\n",
    "\n"
   ]
  },
  {
   "cell_type": "code",
   "execution_count": null,
   "metadata": {},
   "outputs": [
    {
     "name": "stdout",
     "output_type": "stream",
     "text": [
      "Plot saved to /Users/amily/Desktop/amgn_predict.png\n"
     ]
    }
   ],
   "source": [
    "# Load trained model\n",
    "model_dir = \"experiments/base_model\"\n",
    "params = utils.Params(f\"{model_dir}/params.json\")\n",
    "params.device = torch.device(\"cuda\" if torch.cuda.is_available() else \"cpu\")\n",
    "model = net.Net(params).to(params.device)\n",
    "utils.load_checkpoint(f\"{model_dir}/epoch_9.pth.tar\", model) # test a bunch of epoch \n",
    "model.eval()\n",
    "\n",
    "# Load dataset\n",
    "data_path = \"/Users/amily/Desktop/CAPSTONE-stockreturn/data/stock/amgn_stock.csv\" # load data\n",
    "data = pd.read_csv(data_path, parse_dates=['Date'])\n",
    "data['Date'] = pd.to_datetime(data['Date'])\n",
    "data.set_index(\"Date\", inplace=True)\n",
    "\n",
    "\n",
    "forecast_start = \"2024-12-10\" # date started to predict\n",
    "train_window = 30\n",
    "num_covariates = 8\n",
    "future_steps = 5  #predict number of days\n",
    "\n",
    "last_30_days = data.loc[:forecast_start].iloc[-train_window:]\n",
    "last_30_days.fillna(method='ffill', inplace=True)\n",
    "price_data = last_30_days[['High', 'Low', 'Open', 'Close', 'Volume', \"Daily_Return\"]]\n",
    "\n",
    "# Generate covariates\n",
    "def gen_covariates(times, price_data, num_covariates=8):\n",
    "    covariates = np.zeros((len(times), num_covariates))\n",
    "    covariates[:, 0] = stats.zscore([t.weekday() for t in times])\n",
    "    covariates[:, 1] = stats.zscore([t.month for t in times])\n",
    "    covariates[:, 2] = stats.zscore(price_data['Close'].shift(5).values)\n",
    "    covariates[:, 3] = stats.zscore(price_data['Volume'].shift(5).values)\n",
    "    intraday_return = (price_data['Close'] - price_data['Open']) / price_data['Open']\n",
    "    covariates[:, 4] = stats.zscore(intraday_return.shift(5).values)\n",
    "    ma5 = price_data['Close'].rolling(window=5).mean()\n",
    "    covariates[:, 5] = stats.zscore((price_data['Close'] - ma5).values)\n",
    "    exp1 = price_data['Close'].ewm(span=12, adjust=False).mean()\n",
    "    exp2 = price_data['Close'].ewm(span=26, adjust=False).mean()\n",
    "    macd = exp1 - exp2\n",
    "    covariates[:, 6] = stats.zscore(macd.shift(2).values)\n",
    "    volatility = (price_data['High'] - price_data['Low']) / price_data['Close']\n",
    "    covariates[:, 7] = stats.zscore(volatility.values)\n",
    "    return np.nan_to_num(covariates)\n",
    "\n",
    "covariates = gen_covariates(last_30_days.index, price_data)\n",
    "\n",
    "# Prepare input tensor\n",
    "x_input = np.zeros((1, train_window, 1 + num_covariates), dtype='float32')\n",
    "x_input[0, 1:, 0] = last_30_days['Daily_Return'].values[1:]\n",
    "x_input[0, :, 1:1 + num_covariates] = covariates[-train_window:, :]\n",
    "new_input_tensor = torch.tensor(x_input, dtype=torch.float32).permute(1, 0, 2).to(params.device)\n",
    "\n",
    "# Predict future steps\n",
    "batch_size = new_input_tensor.shape[1]\n",
    "hidden = model.init_hidden(batch_size)\n",
    "cell = model.init_cell(batch_size)\n",
    "idx = torch.zeros(1, batch_size, dtype=torch.long, device=params.device)\n",
    "predictions = []\n",
    "\n",
    "for _ in range(future_steps):\n",
    "    mu, sigma, hidden, cell = model(new_input_tensor[-1].unsqueeze_(0), idx, hidden, cell)\n",
    "    next_value = mu.cpu().detach().numpy().squeeze()\n",
    "    predictions.append(next_value)\n",
    "    new_input = np.roll(new_input_tensor.cpu().numpy(), shift=-1, axis=0)\n",
    "    new_input[-1, 0, 0] = next_value\n",
    "    new_input_tensor = torch.tensor(new_input, dtype=torch.float32).to(params.device)\n",
    "\n",
    "# Convert returns to stock prices\n",
    "last_price = last_30_days['Close'].iloc[-1]\n",
    "predicted_prices = [last_price]\n",
    "for ret in predictions:\n",
    "    next_price = predicted_prices[-1] * (1 + ret)\n",
    "    predicted_prices.append(next_price)\n",
    "predicted_prices = np.array(predicted_prices[1:])\n",
    "\n",
    "# Plot predictions\n",
    "future_dates = pd.date_range(start=forecast_start, periods=future_steps)\n",
    "plt.figure(figsize=(12, 6))\n",
    "plt.plot(future_dates, predictions, marker='o', linestyle='-', label=\"Predicted Prices\")\n",
    "plt.axvline(x=pd.to_datetime(forecast_start), color='red', linestyle='--', label='Prediction Start')\n",
    "plt.title(\"Predicted Stock Prices\")\n",
    "plt.xlabel(\"Date\")\n",
    "plt.ylabel(\"Stock Price\")\n",
    "plt.xticks(rotation=45)\n",
    "plt.legend()\n",
    "plt.grid()\n",
    "plot_path = \"/Users/amily/Desktop/amgn_predict.png\"\n",
    "plt.savefig(plot_path)\n",
    "print(f\"Plot saved to {plot_path}\")\n",
    "\n",
    "\n"
   ]
  },
  {
   "cell_type": "markdown",
   "metadata": {},
   "source": [
    "# real price"
   ]
  },
  {
   "cell_type": "code",
   "execution_count": 36,
   "metadata": {},
   "outputs": [
    {
     "name": "stdout",
     "output_type": "stream",
     "text": [
      "Plot saved to /Users/amily/Desktop/amgn_stock_plot.png\n"
     ]
    }
   ],
   "source": [
    "import pandas as pd\n",
    "import matplotlib.pyplot as plt\n",
    "\n",
    "# Load the data\n",
    "file_path = \"/Users/amily/Desktop/CAPSTONE-stockreturn/data/stock/amgn_stock_data.csv\"\n",
    "data = pd.read_csv(file_path, parse_dates=[\"Date\"])\n",
    "\n",
    "# Filter the data for the given date range\n",
    "start_date = \"2024-12-10\"\n",
    "end_date = \"2024-12-15\"\n",
    "filtered_data = data[(data[\"Date\"] >= start_date) & (data[\"Date\"] <= end_date)]\n",
    "\n",
    "# Plot the Close price\n",
    "plt.figure(figsize=(10, 5))\n",
    "plt.plot(filtered_data[\"Date\"], filtered_data[\"Daily Return\"], marker='o', linestyle='-', label=\"Close Price\")\n",
    "plt.xlabel(\"Date\")\n",
    "plt.ylabel(\"Close Price\")\n",
    "plt.title(f\"AMGN Stock Close Price from {start_date} to {end_date}\")\n",
    "plt.xticks(filtered_data[\"Date\"], rotation=45)  # Ensure the labels reflect only the selected date range\n",
    "plt.legend()\n",
    "plt.grid()\n",
    "\n",
    "# Save the figure instead of showing it\n",
    "plot_path = \"/Users/amily/Desktop/amgn_stock_plot.png\"\n",
    "plt.savefig(plot_path)\n",
    "print(f\"Plot saved to {plot_path}\")\n",
    "\n"
   ]
  }
 ],
 "metadata": {
  "kernelspec": {
   "display_name": "dsc80",
   "language": "python",
   "name": "python3"
  },
  "language_info": {
   "codemirror_mode": {
    "name": "ipython",
    "version": 3
   },
   "file_extension": ".py",
   "mimetype": "text/x-python",
   "name": "python",
   "nbconvert_exporter": "python",
   "pygments_lexer": "ipython3",
   "version": "3.8.16"
  }
 },
 "nbformat": 4,
 "nbformat_minor": 2
}
