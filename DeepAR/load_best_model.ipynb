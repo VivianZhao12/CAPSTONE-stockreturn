{
 "cells": [
  {
   "cell_type": "code",
   "execution_count": 23,
   "metadata": {},
   "outputs": [],
   "source": [
    "import torch\n",
    "import os\n",
    "import json\n",
    "import utils\n",
    "import sys\n",
    "import model.net as net  # Ensure this matches your model definition\n",
    "import numpy as np\n",
    "import pandas as pd\n",
    "from pandas.tseries.offsets import BDay \n",
    "\n",
    "from scipy import stats\n",
    "import matplotlib.pyplot as plt\n",
    "import matplotlib\n",
    "import matplotlib.dates as mdates\n",
    "# matplotlib.use(\"TkAgg\")  # Use a GUI-compatible backend\n",
    "matplotlib.use('Agg')  # replace TkAgg as Agg"
   ]
  },
  {
   "cell_type": "markdown",
   "metadata": {},
   "source": [
    "## Comparison Graph"
   ]
  },
  {
   "cell_type": "code",
   "execution_count": 26,
   "metadata": {},
   "outputs": [
    {
     "name": "stdout",
     "output_type": "stream",
     "text": [
      "Processing checkpoint: epoch_0.pth.tar\n"
     ]
    },
    {
     "name": "stderr",
     "output_type": "stream",
     "text": [
      "/home/yic075/CAPSTONE-stockreturn/DeepAR/utils.py:148: FutureWarning: You are using `torch.load` with `weights_only=False` (the current default value), which uses the default pickle module implicitly. It is possible to construct malicious pickle data which will execute arbitrary code during unpickling (See https://github.com/pytorch/pytorch/blob/main/SECURITY.md#untrusted-models for more details). In a future release, the default value for `weights_only` will be flipped to `True`. This limits the functions that could be executed during unpickling. Arbitrary objects will no longer be allowed to be loaded via this mode unless they are explicitly allowlisted by the user via `torch.serialization.add_safe_globals`. We recommend you start setting `weights_only=True` for any use case where you don't have full control of the loaded file. Please open an issue on GitHub for any issues related to this experimental feature.\n",
      "  checkpoint = torch.load(checkpoint, map_location='cpu')\n",
      "/tmp/ipykernel_19781/4127090109.py:45: FutureWarning: DataFrame.fillna with 'method' is deprecated and will raise in a future version. Use obj.ffill() or obj.bfill() instead.\n",
      "  last_30_days.fillna(method='ffill', inplace=True)\n",
      "/opt/conda/lib/python3.11/site-packages/numpy/core/fromnumeric.py:3504: RuntimeWarning: Mean of empty slice.\n",
      "  return _methods._mean(a, axis=axis, dtype=dtype,\n",
      "/opt/conda/lib/python3.11/site-packages/numpy/core/_methods.py:129: RuntimeWarning: invalid value encountered in scalar divide\n",
      "  ret = ret.dtype.type(ret / rcount)\n"
     ]
    },
    {
     "name": "stdout",
     "output_type": "stream",
     "text": [
      "Saved plot for checkpoint epoch_0.pth.tar to /home/yic075/CAPSTONE-stockreturn/DeepAR/experiments/goog_base_model/figures/goog_compare_epochs/goog_prediction_vs_actual_with_metrics_0.png\n",
      "Processing checkpoint: epoch_1.pth.tar\n"
     ]
    },
    {
     "name": "stderr",
     "output_type": "stream",
     "text": [
      "/home/yic075/CAPSTONE-stockreturn/DeepAR/utils.py:148: FutureWarning: You are using `torch.load` with `weights_only=False` (the current default value), which uses the default pickle module implicitly. It is possible to construct malicious pickle data which will execute arbitrary code during unpickling (See https://github.com/pytorch/pytorch/blob/main/SECURITY.md#untrusted-models for more details). In a future release, the default value for `weights_only` will be flipped to `True`. This limits the functions that could be executed during unpickling. Arbitrary objects will no longer be allowed to be loaded via this mode unless they are explicitly allowlisted by the user via `torch.serialization.add_safe_globals`. We recommend you start setting `weights_only=True` for any use case where you don't have full control of the loaded file. Please open an issue on GitHub for any issues related to this experimental feature.\n",
      "  checkpoint = torch.load(checkpoint, map_location='cpu')\n",
      "/tmp/ipykernel_19781/4127090109.py:45: FutureWarning: DataFrame.fillna with 'method' is deprecated and will raise in a future version. Use obj.ffill() or obj.bfill() instead.\n",
      "  last_30_days.fillna(method='ffill', inplace=True)\n",
      "/opt/conda/lib/python3.11/site-packages/numpy/core/fromnumeric.py:3504: RuntimeWarning: Mean of empty slice.\n",
      "  return _methods._mean(a, axis=axis, dtype=dtype,\n",
      "/opt/conda/lib/python3.11/site-packages/numpy/core/_methods.py:129: RuntimeWarning: invalid value encountered in scalar divide\n",
      "  ret = ret.dtype.type(ret / rcount)\n"
     ]
    },
    {
     "name": "stdout",
     "output_type": "stream",
     "text": [
      "Saved plot for checkpoint epoch_1.pth.tar to /home/yic075/CAPSTONE-stockreturn/DeepAR/experiments/goog_base_model/figures/goog_compare_epochs/goog_prediction_vs_actual_with_metrics_1.png\n",
      "Processing checkpoint: epoch_2.pth.tar\n"
     ]
    },
    {
     "name": "stderr",
     "output_type": "stream",
     "text": [
      "/home/yic075/CAPSTONE-stockreturn/DeepAR/utils.py:148: FutureWarning: You are using `torch.load` with `weights_only=False` (the current default value), which uses the default pickle module implicitly. It is possible to construct malicious pickle data which will execute arbitrary code during unpickling (See https://github.com/pytorch/pytorch/blob/main/SECURITY.md#untrusted-models for more details). In a future release, the default value for `weights_only` will be flipped to `True`. This limits the functions that could be executed during unpickling. Arbitrary objects will no longer be allowed to be loaded via this mode unless they are explicitly allowlisted by the user via `torch.serialization.add_safe_globals`. We recommend you start setting `weights_only=True` for any use case where you don't have full control of the loaded file. Please open an issue on GitHub for any issues related to this experimental feature.\n",
      "  checkpoint = torch.load(checkpoint, map_location='cpu')\n",
      "/tmp/ipykernel_19781/4127090109.py:45: FutureWarning: DataFrame.fillna with 'method' is deprecated and will raise in a future version. Use obj.ffill() or obj.bfill() instead.\n",
      "  last_30_days.fillna(method='ffill', inplace=True)\n",
      "/opt/conda/lib/python3.11/site-packages/numpy/core/fromnumeric.py:3504: RuntimeWarning: Mean of empty slice.\n",
      "  return _methods._mean(a, axis=axis, dtype=dtype,\n",
      "/opt/conda/lib/python3.11/site-packages/numpy/core/_methods.py:129: RuntimeWarning: invalid value encountered in scalar divide\n",
      "  ret = ret.dtype.type(ret / rcount)\n"
     ]
    },
    {
     "name": "stdout",
     "output_type": "stream",
     "text": [
      "Saved plot for checkpoint epoch_2.pth.tar to /home/yic075/CAPSTONE-stockreturn/DeepAR/experiments/goog_base_model/figures/goog_compare_epochs/goog_prediction_vs_actual_with_metrics_2.png\n",
      "Processing checkpoint: epoch_3.pth.tar\n"
     ]
    },
    {
     "name": "stderr",
     "output_type": "stream",
     "text": [
      "/home/yic075/CAPSTONE-stockreturn/DeepAR/utils.py:148: FutureWarning: You are using `torch.load` with `weights_only=False` (the current default value), which uses the default pickle module implicitly. It is possible to construct malicious pickle data which will execute arbitrary code during unpickling (See https://github.com/pytorch/pytorch/blob/main/SECURITY.md#untrusted-models for more details). In a future release, the default value for `weights_only` will be flipped to `True`. This limits the functions that could be executed during unpickling. Arbitrary objects will no longer be allowed to be loaded via this mode unless they are explicitly allowlisted by the user via `torch.serialization.add_safe_globals`. We recommend you start setting `weights_only=True` for any use case where you don't have full control of the loaded file. Please open an issue on GitHub for any issues related to this experimental feature.\n",
      "  checkpoint = torch.load(checkpoint, map_location='cpu')\n",
      "/tmp/ipykernel_19781/4127090109.py:45: FutureWarning: DataFrame.fillna with 'method' is deprecated and will raise in a future version. Use obj.ffill() or obj.bfill() instead.\n",
      "  last_30_days.fillna(method='ffill', inplace=True)\n",
      "/opt/conda/lib/python3.11/site-packages/numpy/core/fromnumeric.py:3504: RuntimeWarning: Mean of empty slice.\n",
      "  return _methods._mean(a, axis=axis, dtype=dtype,\n",
      "/opt/conda/lib/python3.11/site-packages/numpy/core/_methods.py:129: RuntimeWarning: invalid value encountered in scalar divide\n",
      "  ret = ret.dtype.type(ret / rcount)\n"
     ]
    },
    {
     "name": "stdout",
     "output_type": "stream",
     "text": [
      "Saved plot for checkpoint epoch_3.pth.tar to /home/yic075/CAPSTONE-stockreturn/DeepAR/experiments/goog_base_model/figures/goog_compare_epochs/goog_prediction_vs_actual_with_metrics_3.png\n",
      "Processing checkpoint: epoch_4.pth.tar\n"
     ]
    },
    {
     "name": "stderr",
     "output_type": "stream",
     "text": [
      "/home/yic075/CAPSTONE-stockreturn/DeepAR/utils.py:148: FutureWarning: You are using `torch.load` with `weights_only=False` (the current default value), which uses the default pickle module implicitly. It is possible to construct malicious pickle data which will execute arbitrary code during unpickling (See https://github.com/pytorch/pytorch/blob/main/SECURITY.md#untrusted-models for more details). In a future release, the default value for `weights_only` will be flipped to `True`. This limits the functions that could be executed during unpickling. Arbitrary objects will no longer be allowed to be loaded via this mode unless they are explicitly allowlisted by the user via `torch.serialization.add_safe_globals`. We recommend you start setting `weights_only=True` for any use case where you don't have full control of the loaded file. Please open an issue on GitHub for any issues related to this experimental feature.\n",
      "  checkpoint = torch.load(checkpoint, map_location='cpu')\n",
      "/tmp/ipykernel_19781/4127090109.py:45: FutureWarning: DataFrame.fillna with 'method' is deprecated and will raise in a future version. Use obj.ffill() or obj.bfill() instead.\n",
      "  last_30_days.fillna(method='ffill', inplace=True)\n",
      "/opt/conda/lib/python3.11/site-packages/numpy/core/fromnumeric.py:3504: RuntimeWarning: Mean of empty slice.\n",
      "  return _methods._mean(a, axis=axis, dtype=dtype,\n",
      "/opt/conda/lib/python3.11/site-packages/numpy/core/_methods.py:129: RuntimeWarning: invalid value encountered in scalar divide\n",
      "  ret = ret.dtype.type(ret / rcount)\n"
     ]
    },
    {
     "name": "stdout",
     "output_type": "stream",
     "text": [
      "Saved plot for checkpoint epoch_4.pth.tar to /home/yic075/CAPSTONE-stockreturn/DeepAR/experiments/goog_base_model/figures/goog_compare_epochs/goog_prediction_vs_actual_with_metrics_4.png\n",
      "Processing checkpoint: epoch_5.pth.tar\n"
     ]
    },
    {
     "name": "stderr",
     "output_type": "stream",
     "text": [
      "/home/yic075/CAPSTONE-stockreturn/DeepAR/utils.py:148: FutureWarning: You are using `torch.load` with `weights_only=False` (the current default value), which uses the default pickle module implicitly. It is possible to construct malicious pickle data which will execute arbitrary code during unpickling (See https://github.com/pytorch/pytorch/blob/main/SECURITY.md#untrusted-models for more details). In a future release, the default value for `weights_only` will be flipped to `True`. This limits the functions that could be executed during unpickling. Arbitrary objects will no longer be allowed to be loaded via this mode unless they are explicitly allowlisted by the user via `torch.serialization.add_safe_globals`. We recommend you start setting `weights_only=True` for any use case where you don't have full control of the loaded file. Please open an issue on GitHub for any issues related to this experimental feature.\n",
      "  checkpoint = torch.load(checkpoint, map_location='cpu')\n",
      "/tmp/ipykernel_19781/4127090109.py:45: FutureWarning: DataFrame.fillna with 'method' is deprecated and will raise in a future version. Use obj.ffill() or obj.bfill() instead.\n",
      "  last_30_days.fillna(method='ffill', inplace=True)\n",
      "/opt/conda/lib/python3.11/site-packages/numpy/core/fromnumeric.py:3504: RuntimeWarning: Mean of empty slice.\n",
      "  return _methods._mean(a, axis=axis, dtype=dtype,\n",
      "/opt/conda/lib/python3.11/site-packages/numpy/core/_methods.py:129: RuntimeWarning: invalid value encountered in scalar divide\n",
      "  ret = ret.dtype.type(ret / rcount)\n"
     ]
    },
    {
     "name": "stdout",
     "output_type": "stream",
     "text": [
      "Saved plot for checkpoint epoch_5.pth.tar to /home/yic075/CAPSTONE-stockreturn/DeepAR/experiments/goog_base_model/figures/goog_compare_epochs/goog_prediction_vs_actual_with_metrics_5.png\n",
      "Processing checkpoint: epoch_6.pth.tar\n"
     ]
    },
    {
     "name": "stderr",
     "output_type": "stream",
     "text": [
      "/home/yic075/CAPSTONE-stockreturn/DeepAR/utils.py:148: FutureWarning: You are using `torch.load` with `weights_only=False` (the current default value), which uses the default pickle module implicitly. It is possible to construct malicious pickle data which will execute arbitrary code during unpickling (See https://github.com/pytorch/pytorch/blob/main/SECURITY.md#untrusted-models for more details). In a future release, the default value for `weights_only` will be flipped to `True`. This limits the functions that could be executed during unpickling. Arbitrary objects will no longer be allowed to be loaded via this mode unless they are explicitly allowlisted by the user via `torch.serialization.add_safe_globals`. We recommend you start setting `weights_only=True` for any use case where you don't have full control of the loaded file. Please open an issue on GitHub for any issues related to this experimental feature.\n",
      "  checkpoint = torch.load(checkpoint, map_location='cpu')\n",
      "/tmp/ipykernel_19781/4127090109.py:45: FutureWarning: DataFrame.fillna with 'method' is deprecated and will raise in a future version. Use obj.ffill() or obj.bfill() instead.\n",
      "  last_30_days.fillna(method='ffill', inplace=True)\n",
      "/opt/conda/lib/python3.11/site-packages/numpy/core/fromnumeric.py:3504: RuntimeWarning: Mean of empty slice.\n",
      "  return _methods._mean(a, axis=axis, dtype=dtype,\n",
      "/opt/conda/lib/python3.11/site-packages/numpy/core/_methods.py:129: RuntimeWarning: invalid value encountered in scalar divide\n",
      "  ret = ret.dtype.type(ret / rcount)\n"
     ]
    },
    {
     "name": "stdout",
     "output_type": "stream",
     "text": [
      "Saved plot for checkpoint epoch_6.pth.tar to /home/yic075/CAPSTONE-stockreturn/DeepAR/experiments/goog_base_model/figures/goog_compare_epochs/goog_prediction_vs_actual_with_metrics_6.png\n",
      "Processing checkpoint: epoch_7.pth.tar\n"
     ]
    },
    {
     "name": "stderr",
     "output_type": "stream",
     "text": [
      "/home/yic075/CAPSTONE-stockreturn/DeepAR/utils.py:148: FutureWarning: You are using `torch.load` with `weights_only=False` (the current default value), which uses the default pickle module implicitly. It is possible to construct malicious pickle data which will execute arbitrary code during unpickling (See https://github.com/pytorch/pytorch/blob/main/SECURITY.md#untrusted-models for more details). In a future release, the default value for `weights_only` will be flipped to `True`. This limits the functions that could be executed during unpickling. Arbitrary objects will no longer be allowed to be loaded via this mode unless they are explicitly allowlisted by the user via `torch.serialization.add_safe_globals`. We recommend you start setting `weights_only=True` for any use case where you don't have full control of the loaded file. Please open an issue on GitHub for any issues related to this experimental feature.\n",
      "  checkpoint = torch.load(checkpoint, map_location='cpu')\n",
      "/tmp/ipykernel_19781/4127090109.py:45: FutureWarning: DataFrame.fillna with 'method' is deprecated and will raise in a future version. Use obj.ffill() or obj.bfill() instead.\n",
      "  last_30_days.fillna(method='ffill', inplace=True)\n",
      "/opt/conda/lib/python3.11/site-packages/numpy/core/fromnumeric.py:3504: RuntimeWarning: Mean of empty slice.\n",
      "  return _methods._mean(a, axis=axis, dtype=dtype,\n",
      "/opt/conda/lib/python3.11/site-packages/numpy/core/_methods.py:129: RuntimeWarning: invalid value encountered in scalar divide\n",
      "  ret = ret.dtype.type(ret / rcount)\n"
     ]
    },
    {
     "name": "stdout",
     "output_type": "stream",
     "text": [
      "Saved plot for checkpoint epoch_7.pth.tar to /home/yic075/CAPSTONE-stockreturn/DeepAR/experiments/goog_base_model/figures/goog_compare_epochs/goog_prediction_vs_actual_with_metrics_7.png\n",
      "Processing checkpoint: epoch_8.pth.tar\n"
     ]
    },
    {
     "name": "stderr",
     "output_type": "stream",
     "text": [
      "/home/yic075/CAPSTONE-stockreturn/DeepAR/utils.py:148: FutureWarning: You are using `torch.load` with `weights_only=False` (the current default value), which uses the default pickle module implicitly. It is possible to construct malicious pickle data which will execute arbitrary code during unpickling (See https://github.com/pytorch/pytorch/blob/main/SECURITY.md#untrusted-models for more details). In a future release, the default value for `weights_only` will be flipped to `True`. This limits the functions that could be executed during unpickling. Arbitrary objects will no longer be allowed to be loaded via this mode unless they are explicitly allowlisted by the user via `torch.serialization.add_safe_globals`. We recommend you start setting `weights_only=True` for any use case where you don't have full control of the loaded file. Please open an issue on GitHub for any issues related to this experimental feature.\n",
      "  checkpoint = torch.load(checkpoint, map_location='cpu')\n",
      "/tmp/ipykernel_19781/4127090109.py:45: FutureWarning: DataFrame.fillna with 'method' is deprecated and will raise in a future version. Use obj.ffill() or obj.bfill() instead.\n",
      "  last_30_days.fillna(method='ffill', inplace=True)\n",
      "/opt/conda/lib/python3.11/site-packages/numpy/core/fromnumeric.py:3504: RuntimeWarning: Mean of empty slice.\n",
      "  return _methods._mean(a, axis=axis, dtype=dtype,\n",
      "/opt/conda/lib/python3.11/site-packages/numpy/core/_methods.py:129: RuntimeWarning: invalid value encountered in scalar divide\n",
      "  ret = ret.dtype.type(ret / rcount)\n"
     ]
    },
    {
     "name": "stdout",
     "output_type": "stream",
     "text": [
      "Saved plot for checkpoint epoch_8.pth.tar to /home/yic075/CAPSTONE-stockreturn/DeepAR/experiments/goog_base_model/figures/goog_compare_epochs/goog_prediction_vs_actual_with_metrics_8.png\n",
      "Processing checkpoint: epoch_9.pth.tar\n"
     ]
    },
    {
     "name": "stderr",
     "output_type": "stream",
     "text": [
      "/home/yic075/CAPSTONE-stockreturn/DeepAR/utils.py:148: FutureWarning: You are using `torch.load` with `weights_only=False` (the current default value), which uses the default pickle module implicitly. It is possible to construct malicious pickle data which will execute arbitrary code during unpickling (See https://github.com/pytorch/pytorch/blob/main/SECURITY.md#untrusted-models for more details). In a future release, the default value for `weights_only` will be flipped to `True`. This limits the functions that could be executed during unpickling. Arbitrary objects will no longer be allowed to be loaded via this mode unless they are explicitly allowlisted by the user via `torch.serialization.add_safe_globals`. We recommend you start setting `weights_only=True` for any use case where you don't have full control of the loaded file. Please open an issue on GitHub for any issues related to this experimental feature.\n",
      "  checkpoint = torch.load(checkpoint, map_location='cpu')\n",
      "/tmp/ipykernel_19781/4127090109.py:45: FutureWarning: DataFrame.fillna with 'method' is deprecated and will raise in a future version. Use obj.ffill() or obj.bfill() instead.\n",
      "  last_30_days.fillna(method='ffill', inplace=True)\n",
      "/opt/conda/lib/python3.11/site-packages/numpy/core/fromnumeric.py:3504: RuntimeWarning: Mean of empty slice.\n",
      "  return _methods._mean(a, axis=axis, dtype=dtype,\n",
      "/opt/conda/lib/python3.11/site-packages/numpy/core/_methods.py:129: RuntimeWarning: invalid value encountered in scalar divide\n",
      "  ret = ret.dtype.type(ret / rcount)\n"
     ]
    },
    {
     "name": "stdout",
     "output_type": "stream",
     "text": [
      "Saved plot for checkpoint epoch_9.pth.tar to /home/yic075/CAPSTONE-stockreturn/DeepAR/experiments/goog_base_model/figures/goog_compare_epochs/goog_prediction_vs_actual_with_metrics_9.png\n",
      "Processing checkpoint: epoch_10.pth.tar\n"
     ]
    },
    {
     "name": "stderr",
     "output_type": "stream",
     "text": [
      "/home/yic075/CAPSTONE-stockreturn/DeepAR/utils.py:148: FutureWarning: You are using `torch.load` with `weights_only=False` (the current default value), which uses the default pickle module implicitly. It is possible to construct malicious pickle data which will execute arbitrary code during unpickling (See https://github.com/pytorch/pytorch/blob/main/SECURITY.md#untrusted-models for more details). In a future release, the default value for `weights_only` will be flipped to `True`. This limits the functions that could be executed during unpickling. Arbitrary objects will no longer be allowed to be loaded via this mode unless they are explicitly allowlisted by the user via `torch.serialization.add_safe_globals`. We recommend you start setting `weights_only=True` for any use case where you don't have full control of the loaded file. Please open an issue on GitHub for any issues related to this experimental feature.\n",
      "  checkpoint = torch.load(checkpoint, map_location='cpu')\n",
      "/tmp/ipykernel_19781/4127090109.py:45: FutureWarning: DataFrame.fillna with 'method' is deprecated and will raise in a future version. Use obj.ffill() or obj.bfill() instead.\n",
      "  last_30_days.fillna(method='ffill', inplace=True)\n",
      "/opt/conda/lib/python3.11/site-packages/numpy/core/fromnumeric.py:3504: RuntimeWarning: Mean of empty slice.\n",
      "  return _methods._mean(a, axis=axis, dtype=dtype,\n",
      "/opt/conda/lib/python3.11/site-packages/numpy/core/_methods.py:129: RuntimeWarning: invalid value encountered in scalar divide\n",
      "  ret = ret.dtype.type(ret / rcount)\n"
     ]
    },
    {
     "name": "stdout",
     "output_type": "stream",
     "text": [
      "Saved plot for checkpoint epoch_10.pth.tar to /home/yic075/CAPSTONE-stockreturn/DeepAR/experiments/goog_base_model/figures/goog_compare_epochs/goog_prediction_vs_actual_with_metrics_10.png\n",
      "Processing checkpoint: epoch_11.pth.tar\n"
     ]
    },
    {
     "name": "stderr",
     "output_type": "stream",
     "text": [
      "/home/yic075/CAPSTONE-stockreturn/DeepAR/utils.py:148: FutureWarning: You are using `torch.load` with `weights_only=False` (the current default value), which uses the default pickle module implicitly. It is possible to construct malicious pickle data which will execute arbitrary code during unpickling (See https://github.com/pytorch/pytorch/blob/main/SECURITY.md#untrusted-models for more details). In a future release, the default value for `weights_only` will be flipped to `True`. This limits the functions that could be executed during unpickling. Arbitrary objects will no longer be allowed to be loaded via this mode unless they are explicitly allowlisted by the user via `torch.serialization.add_safe_globals`. We recommend you start setting `weights_only=True` for any use case where you don't have full control of the loaded file. Please open an issue on GitHub for any issues related to this experimental feature.\n",
      "  checkpoint = torch.load(checkpoint, map_location='cpu')\n",
      "/tmp/ipykernel_19781/4127090109.py:45: FutureWarning: DataFrame.fillna with 'method' is deprecated and will raise in a future version. Use obj.ffill() or obj.bfill() instead.\n",
      "  last_30_days.fillna(method='ffill', inplace=True)\n",
      "/opt/conda/lib/python3.11/site-packages/numpy/core/fromnumeric.py:3504: RuntimeWarning: Mean of empty slice.\n",
      "  return _methods._mean(a, axis=axis, dtype=dtype,\n",
      "/opt/conda/lib/python3.11/site-packages/numpy/core/_methods.py:129: RuntimeWarning: invalid value encountered in scalar divide\n",
      "  ret = ret.dtype.type(ret / rcount)\n"
     ]
    },
    {
     "name": "stdout",
     "output_type": "stream",
     "text": [
      "Saved plot for checkpoint epoch_11.pth.tar to /home/yic075/CAPSTONE-stockreturn/DeepAR/experiments/goog_base_model/figures/goog_compare_epochs/goog_prediction_vs_actual_with_metrics_11.png\n",
      "Processing checkpoint: epoch_12.pth.tar\n"
     ]
    },
    {
     "name": "stderr",
     "output_type": "stream",
     "text": [
      "/home/yic075/CAPSTONE-stockreturn/DeepAR/utils.py:148: FutureWarning: You are using `torch.load` with `weights_only=False` (the current default value), which uses the default pickle module implicitly. It is possible to construct malicious pickle data which will execute arbitrary code during unpickling (See https://github.com/pytorch/pytorch/blob/main/SECURITY.md#untrusted-models for more details). In a future release, the default value for `weights_only` will be flipped to `True`. This limits the functions that could be executed during unpickling. Arbitrary objects will no longer be allowed to be loaded via this mode unless they are explicitly allowlisted by the user via `torch.serialization.add_safe_globals`. We recommend you start setting `weights_only=True` for any use case where you don't have full control of the loaded file. Please open an issue on GitHub for any issues related to this experimental feature.\n",
      "  checkpoint = torch.load(checkpoint, map_location='cpu')\n",
      "/tmp/ipykernel_19781/4127090109.py:45: FutureWarning: DataFrame.fillna with 'method' is deprecated and will raise in a future version. Use obj.ffill() or obj.bfill() instead.\n",
      "  last_30_days.fillna(method='ffill', inplace=True)\n",
      "/opt/conda/lib/python3.11/site-packages/numpy/core/fromnumeric.py:3504: RuntimeWarning: Mean of empty slice.\n",
      "  return _methods._mean(a, axis=axis, dtype=dtype,\n",
      "/opt/conda/lib/python3.11/site-packages/numpy/core/_methods.py:129: RuntimeWarning: invalid value encountered in scalar divide\n",
      "  ret = ret.dtype.type(ret / rcount)\n"
     ]
    },
    {
     "name": "stdout",
     "output_type": "stream",
     "text": [
      "Saved plot for checkpoint epoch_12.pth.tar to /home/yic075/CAPSTONE-stockreturn/DeepAR/experiments/goog_base_model/figures/goog_compare_epochs/goog_prediction_vs_actual_with_metrics_12.png\n",
      "Processing checkpoint: epoch_13.pth.tar\n"
     ]
    },
    {
     "name": "stderr",
     "output_type": "stream",
     "text": [
      "/home/yic075/CAPSTONE-stockreturn/DeepAR/utils.py:148: FutureWarning: You are using `torch.load` with `weights_only=False` (the current default value), which uses the default pickle module implicitly. It is possible to construct malicious pickle data which will execute arbitrary code during unpickling (See https://github.com/pytorch/pytorch/blob/main/SECURITY.md#untrusted-models for more details). In a future release, the default value for `weights_only` will be flipped to `True`. This limits the functions that could be executed during unpickling. Arbitrary objects will no longer be allowed to be loaded via this mode unless they are explicitly allowlisted by the user via `torch.serialization.add_safe_globals`. We recommend you start setting `weights_only=True` for any use case where you don't have full control of the loaded file. Please open an issue on GitHub for any issues related to this experimental feature.\n",
      "  checkpoint = torch.load(checkpoint, map_location='cpu')\n",
      "/tmp/ipykernel_19781/4127090109.py:45: FutureWarning: DataFrame.fillna with 'method' is deprecated and will raise in a future version. Use obj.ffill() or obj.bfill() instead.\n",
      "  last_30_days.fillna(method='ffill', inplace=True)\n",
      "/opt/conda/lib/python3.11/site-packages/numpy/core/fromnumeric.py:3504: RuntimeWarning: Mean of empty slice.\n",
      "  return _methods._mean(a, axis=axis, dtype=dtype,\n",
      "/opt/conda/lib/python3.11/site-packages/numpy/core/_methods.py:129: RuntimeWarning: invalid value encountered in scalar divide\n",
      "  ret = ret.dtype.type(ret / rcount)\n"
     ]
    },
    {
     "name": "stdout",
     "output_type": "stream",
     "text": [
      "Saved plot for checkpoint epoch_13.pth.tar to /home/yic075/CAPSTONE-stockreturn/DeepAR/experiments/goog_base_model/figures/goog_compare_epochs/goog_prediction_vs_actual_with_metrics_13.png\n",
      "Processing checkpoint: epoch_14.pth.tar\n"
     ]
    },
    {
     "name": "stderr",
     "output_type": "stream",
     "text": [
      "/home/yic075/CAPSTONE-stockreturn/DeepAR/utils.py:148: FutureWarning: You are using `torch.load` with `weights_only=False` (the current default value), which uses the default pickle module implicitly. It is possible to construct malicious pickle data which will execute arbitrary code during unpickling (See https://github.com/pytorch/pytorch/blob/main/SECURITY.md#untrusted-models for more details). In a future release, the default value for `weights_only` will be flipped to `True`. This limits the functions that could be executed during unpickling. Arbitrary objects will no longer be allowed to be loaded via this mode unless they are explicitly allowlisted by the user via `torch.serialization.add_safe_globals`. We recommend you start setting `weights_only=True` for any use case where you don't have full control of the loaded file. Please open an issue on GitHub for any issues related to this experimental feature.\n",
      "  checkpoint = torch.load(checkpoint, map_location='cpu')\n",
      "/tmp/ipykernel_19781/4127090109.py:45: FutureWarning: DataFrame.fillna with 'method' is deprecated and will raise in a future version. Use obj.ffill() or obj.bfill() instead.\n",
      "  last_30_days.fillna(method='ffill', inplace=True)\n",
      "/opt/conda/lib/python3.11/site-packages/numpy/core/fromnumeric.py:3504: RuntimeWarning: Mean of empty slice.\n",
      "  return _methods._mean(a, axis=axis, dtype=dtype,\n",
      "/opt/conda/lib/python3.11/site-packages/numpy/core/_methods.py:129: RuntimeWarning: invalid value encountered in scalar divide\n",
      "  ret = ret.dtype.type(ret / rcount)\n"
     ]
    },
    {
     "name": "stdout",
     "output_type": "stream",
     "text": [
      "Saved plot for checkpoint epoch_14.pth.tar to /home/yic075/CAPSTONE-stockreturn/DeepAR/experiments/goog_base_model/figures/goog_compare_epochs/goog_prediction_vs_actual_with_metrics_14.png\n",
      "Processing checkpoint: best.pth.tar\n"
     ]
    },
    {
     "name": "stderr",
     "output_type": "stream",
     "text": [
      "/home/yic075/CAPSTONE-stockreturn/DeepAR/utils.py:148: FutureWarning: You are using `torch.load` with `weights_only=False` (the current default value), which uses the default pickle module implicitly. It is possible to construct malicious pickle data which will execute arbitrary code during unpickling (See https://github.com/pytorch/pytorch/blob/main/SECURITY.md#untrusted-models for more details). In a future release, the default value for `weights_only` will be flipped to `True`. This limits the functions that could be executed during unpickling. Arbitrary objects will no longer be allowed to be loaded via this mode unless they are explicitly allowlisted by the user via `torch.serialization.add_safe_globals`. We recommend you start setting `weights_only=True` for any use case where you don't have full control of the loaded file. Please open an issue on GitHub for any issues related to this experimental feature.\n",
      "  checkpoint = torch.load(checkpoint, map_location='cpu')\n",
      "/tmp/ipykernel_19781/4127090109.py:45: FutureWarning: DataFrame.fillna with 'method' is deprecated and will raise in a future version. Use obj.ffill() or obj.bfill() instead.\n",
      "  last_30_days.fillna(method='ffill', inplace=True)\n",
      "/opt/conda/lib/python3.11/site-packages/numpy/core/fromnumeric.py:3504: RuntimeWarning: Mean of empty slice.\n",
      "  return _methods._mean(a, axis=axis, dtype=dtype,\n",
      "/opt/conda/lib/python3.11/site-packages/numpy/core/_methods.py:129: RuntimeWarning: invalid value encountered in scalar divide\n",
      "  ret = ret.dtype.type(ret / rcount)\n"
     ]
    },
    {
     "name": "stdout",
     "output_type": "stream",
     "text": [
      "Saved plot for checkpoint best.pth.tar to /home/yic075/CAPSTONE-stockreturn/DeepAR/experiments/goog_base_model/figures/goog_compare_epochs/goog_prediction_vs_actual_with_metrics_best.png\n",
      "Completed processing all checkpoints!\n"
     ]
    }
   ],
   "source": [
    "# Setup paths\n",
    "capstone_dir = os.path.join(os.path.expanduser(\"~\"), \"CAPSTONE-stockreturn\")\n",
    "model_dir = os.path.join(capstone_dir, \"DeepAR\", \"experiments\", \"goog_base_model\")\n",
    "data_path = os.path.join(capstone_dir, \"data\", \"stock\", \"goog_stock_wsenti.csv\")\n",
    "\n",
    "# Load the dataset\n",
    "data = pd.read_csv(data_path, parse_dates=['Date'])\n",
    "data['Date'] = pd.to_datetime(data['Date'])\n",
    "data.set_index(\"Date\", inplace=True)\n",
    "\n",
    "# Parameters for prediction\n",
    "forecast_start = \"2025-02-18\"  # date started to predict\n",
    "end_date = \"2025-02-24\"\n",
    "train_window = 30\n",
    "num_covariates = 9\n",
    "future_steps = 5  # predict number of days\n",
    "\n",
    "# Add path for model imports\n",
    "sys.path.append(os.path.join(capstone_dir, \"DeepAR\"))\n",
    "\n",
    "# Initialize parameters\n",
    "params = utils.Params(os.path.join(model_dir, \"params.json\"))\n",
    "params.device = torch.device(\"cuda\" if torch.cuda.is_available() else \"cpu\")\n",
    "\n",
    "# Define the checkpoint files to process\n",
    "checkpoint_files = [f\"epoch_{i}.pth.tar\" for i in range(15)] + [\"best.pth.tar\"]\n",
    "\n",
    "# Loop through each checkpoint\n",
    "for checkpoint_file in checkpoint_files:\n",
    "    print(f\"Processing checkpoint: {checkpoint_file}\")\n",
    "    \n",
    "    # Extract epoch number or 'best' for filename\n",
    "    if checkpoint_file == \"best.pth.tar\":\n",
    "        epoch_label = \"best\"\n",
    "    else:\n",
    "        epoch_label = checkpoint_file.split(\"_\")[1].split(\".\")[0]  # Extract number after \"epoch_\"\n",
    "    \n",
    "    # Load the model for this checkpoint\n",
    "    model = net.Net(params).to(params.device)\n",
    "    utils.load_checkpoint(os.path.join(model_dir, checkpoint_file), model)\n",
    "    model.eval()\n",
    "    \n",
    "    # Get the training data\n",
    "    last_30_days = data.loc[:forecast_start].iloc[-train_window:]\n",
    "    last_30_days.fillna(method='ffill', inplace=True)\n",
    "    price_data = last_30_days[['High', 'Low', 'Open', 'Close', 'Volume', 'Sentiment_Score', 'Daily Return']]\n",
    "    # price_data = last_30_days[['High', 'Low', 'Open', 'Close', 'Volume', 'Daily Return']]\n",
    "    \n",
    "    # Generate covariates\n",
    "    def gen_covariates(times, price_data, num_covariates):\n",
    "        covariates = np.zeros((len(times), num_covariates))\n",
    "        covariates[:, 0] = stats.zscore([t.weekday() for t in times])\n",
    "        covariates[:, 1] = stats.zscore([t.month for t in times])\n",
    "        covariates[:, 2] = stats.zscore(price_data['Close'].shift(5).values)\n",
    "        covariates[:, 3] = stats.zscore(price_data['Volume'].shift(5).values)\n",
    "        intraday_return = (price_data['Close'] - price_data['Open']) / price_data['Open']\n",
    "        covariates[:, 4] = stats.zscore(intraday_return.shift(5).values)\n",
    "        ma5 = price_data['Close'].rolling(window=5).mean()\n",
    "        covariates[:, 5] = stats.zscore((price_data['Close'] - ma5).values)\n",
    "        exp1 = price_data['Close'].ewm(span=12, adjust=False).mean()\n",
    "        exp2 = price_data['Close'].ewm(span=26, adjust=False).mean()\n",
    "        macd = exp1 - exp2\n",
    "        covariates[:, 6] = stats.zscore(macd.shift(2).values)\n",
    "        volatility = (price_data['High'] - price_data['Low']) / price_data['Close']\n",
    "        covariates[:, 7] = stats.zscore(volatility.values)\n",
    "        covariates[:, 8] = stats.zscore(price_data['Sentiment_Score'].shift(5).values)\n",
    "        return np.nan_to_num(covariates)\n",
    "    \n",
    "    covariates = gen_covariates(last_30_days.index, price_data, num_covariates)\n",
    "    \n",
    "    # Prepare initial input tensor\n",
    "    x_input = np.zeros((1, train_window, 1 + num_covariates), dtype='float32')\n",
    "    x_input[0, 1:, 0] = last_30_days['Daily Return'].values[1:]\n",
    "    x_input[0, :, 1:1 + num_covariates] = covariates[-train_window:, :]\n",
    "    new_input_tensor = torch.tensor(x_input, dtype=torch.float32).permute(1, 0, 2).to(params.device)\n",
    "    \n",
    "    # Generate future trading days\n",
    "    start_date = pd.to_datetime(forecast_start)\n",
    "    future_trading_days = pd.date_range(start=start_date, periods=future_steps, freq=BDay())\n",
    "    \n",
    "    # Predict for trading days\n",
    "    batch_size = new_input_tensor.shape[1]\n",
    "    hidden = model.init_hidden(batch_size)\n",
    "    cell = model.init_cell(batch_size)\n",
    "    idx = torch.zeros(1, batch_size, dtype=torch.long, device=params.device)\n",
    "    predictions = []\n",
    "    \n",
    "    for _ in range(future_steps):\n",
    "        mu, sigma, hidden, cell = model(new_input_tensor[-1].unsqueeze(0), idx, hidden, cell)\n",
    "        next_value = mu.cpu().detach().numpy().squeeze()\n",
    "        predictions.append(next_value)\n",
    "        new_input = np.roll(new_input_tensor.cpu().numpy(), shift=-1, axis=0)\n",
    "        new_input[-1, 0, 0] = next_value\n",
    "        new_input_tensor = torch.tensor(new_input, dtype=torch.float32).to(params.device)\n",
    "    \n",
    "    # Convert returns to stock prices\n",
    "    last_price = last_30_days['Close'].iloc[-1]\n",
    "    predicted_prices = [last_price]\n",
    "    for ret in predictions:\n",
    "        next_price = predicted_prices[-1] * (1 + ret)\n",
    "        predicted_prices.append(next_price)\n",
    "    predicted_prices = predicted_prices[1:]  # Remove the initial price\n",
    "    \n",
    "    # Get actual data for comparison\n",
    "    actual_data = data.reset_index()\n",
    "    actual_data = actual_data[(actual_data[\"Date\"] >= forecast_start) & (actual_data[\"Date\"] <= end_date)]\n",
    "    \n",
    "    # Create the combined plot\n",
    "    plt.figure(figsize=(12, 6))\n",
    "    \n",
    "    # Plot predictions\n",
    "    plt.plot(future_trading_days, predicted_prices, marker='o', linestyle='-', color='blue', label=\"Predicted Prices\")\n",
    "    \n",
    "    # Plot actual prices\n",
    "    plt.plot(actual_data[\"Date\"], actual_data[\"Close\"], marker='x', linestyle='--', color='green', label=\"Actual Prices\")\n",
    "    \n",
    "    # Add vertical line at prediction start\n",
    "    plt.axvline(x=pd.to_datetime(forecast_start), color='red', linestyle='--', label='Prediction Start')\n",
    "    \n",
    "    # Format the plot\n",
    "    plt.title(f\"GOOG Stock: Predicted vs Actual Prices (Checkpoint: {checkpoint_file})\")\n",
    "    plt.xlabel(\"Date\")\n",
    "    plt.ylabel(\"Stock Price\")\n",
    "    plt.gca().xaxis.set_major_formatter(mdates.DateFormatter('%Y-%m-%d'))\n",
    "    plt.gca().xaxis.set_major_locator(mdates.DayLocator())\n",
    "    plt.xticks(rotation=45)\n",
    "    \n",
    "    # Calculate metrics\n",
    "    actual_data_dates_str = [d.strftime('%Y-%m-%d') for d in actual_data[\"Date\"]]\n",
    "    future_days_str = [d.strftime('%Y-%m-%d') for d in future_trading_days]\n",
    "    \n",
    "    matching_actual = []\n",
    "    matching_indices = []\n",
    "    \n",
    "    for i, pred_date_str in enumerate(future_days_str):\n",
    "        if pred_date_str in actual_data_dates_str:\n",
    "            idx = actual_data_dates_str.index(pred_date_str)\n",
    "            matching_actual.append(actual_data[\"Close\"].iloc[idx])\n",
    "            matching_indices.append(i)\n",
    "    \n",
    "    matching_actual = np.array(matching_actual)\n",
    "    predicted_prices_array = np.array(predicted_prices)\n",
    "    \n",
    "    # Basic metrics\n",
    "    mae = np.mean(np.abs(predicted_prices_array[matching_indices] - matching_actual))\n",
    "    mape = np.mean(np.abs((matching_actual - predicted_prices_array[matching_indices]) / matching_actual)) * 100\n",
    "    rmse = np.sqrt(np.mean((predicted_prices_array[matching_indices] - matching_actual)**2))\n",
    "    \n",
    "    # Direction accuracy\n",
    "    if len(matching_actual) > 1:  # Ensure we have at least 2 points for direction\n",
    "        actual_direction = np.diff(matching_actual) > 0\n",
    "        predicted_direction = np.diff(predicted_prices_array[matching_indices]) > 0\n",
    "        direction_accuracy = np.mean(actual_direction == predicted_direction) * 100\n",
    "    else:\n",
    "        direction_accuracy = float('nan')\n",
    "    \n",
    "    # Short-term vs long-term accuracy\n",
    "    if len(matching_actual) >= 2:\n",
    "        short_term_mae = np.mean(np.abs(predicted_prices_array[matching_indices[:2]] - matching_actual[:2]))\n",
    "    else:\n",
    "        short_term_mae = float('nan')\n",
    "        \n",
    "    if len(matching_actual) >= 5:\n",
    "        long_term_mae = np.mean(np.abs(predicted_prices_array[matching_indices[3:]] - matching_actual[3:]))\n",
    "    else:\n",
    "        long_term_mae = float('nan')\n",
    "    \n",
    "    # Add a text box with metrics to the plot\n",
    "    metrics_text = (\n",
    "        f\"Metrics:\\n\"\n",
    "        f\"MAE: ${mae:.2f}\\n\"\n",
    "        f\"MAPE: {mape:.2f}%\\n\"\n",
    "        f\"RMSE: ${rmse:.2f}\\n\"\n",
    "        f\"Direction Accuracy: {direction_accuracy:.1f}%\\n\"\n",
    "        f\"Short-term MAE (1-2d): ${short_term_mae:.2f}\\n\"\n",
    "        f\"Long-term MAE (4-5d): ${long_term_mae:.2f}\"\n",
    "    )\n",
    "    \n",
    "    # Position the text box in the upper right corner with some padding\n",
    "    plt.annotate(\n",
    "        metrics_text,\n",
    "        xy=(0.97, 0.97),\n",
    "        xycoords='axes fraction',\n",
    "        fontsize=9,\n",
    "        ha='right',\n",
    "        va='top',\n",
    "        bbox=dict(boxstyle='round,pad=0.5', facecolor='white', alpha=0.8)\n",
    "    )\n",
    "    \n",
    "    plt.legend()\n",
    "    plt.grid(True)\n",
    "    plt.tight_layout()\n",
    "    \n",
    "    # Save the figure with a unique name based on the checkpoint\n",
    "    figures_dir = os.path.join(model_dir, \"figures\", \"goog_compare_epochs\")\n",
    "    os.makedirs(figures_dir, exist_ok=True)\n",
    "    plot_path = os.path.join(figures_dir, f\"goog_prediction_vs_actual_with_metrics_{epoch_label}.png\")\n",
    "    plt.savefig(plot_path)\n",
    "    plt.close()\n",
    "    \n",
    "    print(f\"Saved plot for checkpoint {checkpoint_file} to {plot_path}\")\n",
    "    \n",
    "print(\"Completed processing all checkpoints!\")"
   ]
  },
  {
   "cell_type": "code",
   "execution_count": null,
   "metadata": {},
   "outputs": [],
   "source": []
  }
 ],
 "metadata": {
  "kernelspec": {
   "display_name": "Python 3 (ipykernel)",
   "language": "python",
   "name": "python3"
  },
  "language_info": {
   "codemirror_mode": {
    "name": "ipython",
    "version": 3
   },
   "file_extension": ".py",
   "mimetype": "text/x-python",
   "name": "python",
   "nbconvert_exporter": "python",
   "pygments_lexer": "ipython3",
   "version": "3.11.9"
  }
 },
 "nbformat": 4,
 "nbformat_minor": 4
}
