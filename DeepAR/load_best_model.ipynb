{
 "cells": [
  {
   "cell_type": "code",
   "execution_count": 1,
   "metadata": {},
   "outputs": [
    {
     "name": "stdout",
     "output_type": "stream",
     "text": [
      "Loaded model parameters.\n"
     ]
    }
   ],
   "source": [
    "import torch\n",
    "import os\n",
    "import json\n",
    "import utils\n",
    "import model.net as net  # Ensure this matches your model definition\n",
    "\n",
    "\n",
    "# Define the model directory (adjust accordingly)\n",
    "model_dir = \"experiments/base_model\"  # Change if your model is in a different folder\n",
    "\n",
    "# Load params from JSON\n",
    "params_path = os.path.join(model_dir, \"params.json\")\n",
    "assert os.path.isfile(params_path), f\"No params.json found at {params_path}\"\n",
    "\n",
    "params = utils.Params(params_path)\n",
    "params.model_dir = model_dir\n",
    "params.device = torch.device(\"cuda\" if torch.cuda.is_available() else \"cpu\")\n",
    "\n",
    "print(\"Loaded model parameters.\")\n",
    "\n"
   ]
  },
  {
   "cell_type": "code",
   "execution_count": 2,
   "metadata": {},
   "outputs": [],
   "source": [
    "# Load the model\n",
    "model = net.Net(params).to(params.device)  # Ensure this matches the original model architecture\n",
    "\n",
    "# Load the optimizer (if needed for further training)\n",
    "optimizer = torch.optim.Adam(model.parameters(), lr=params.learning_rate)\n"
   ]
  },
  {
   "cell_type": "code",
   "execution_count": 3,
   "metadata": {},
   "outputs": [
    {
     "name": "stdout",
     "output_type": "stream",
     "text": [
      "Loaded best model checkpoint.\n"
     ]
    },
    {
     "data": {
      "text/plain": [
       "Net(\n",
       "  (embedding): Embedding(1284, 24)\n",
       "  (lstm): LSTM(34, 96, num_layers=2, dropout=0.15)\n",
       "  (relu): ReLU()\n",
       "  (distribution_mu): Linear(in_features=192, out_features=1, bias=True)\n",
       "  (distribution_presigma): Linear(in_features=192, out_features=1, bias=True)\n",
       "  (distribution_sigma): Softplus(beta=1, threshold=20)\n",
       ")"
      ]
     },
     "execution_count": 3,
     "metadata": {},
     "output_type": "execute_result"
    }
   ],
   "source": [
    "# Load best checkpoint\n",
    "checkpoint_path = os.path.join(model_dir, \"best.pth.tar\")\n",
    "\n",
    "if os.path.isfile(checkpoint_path):\n",
    "    checkpoint = torch.load(checkpoint_path, map_location=params.device)\n",
    "    model.load_state_dict(checkpoint[\"state_dict\"])\n",
    "    optimizer.load_state_dict(checkpoint[\"optim_dict\"])  # Only needed if continuing training\n",
    "    print(\"Loaded best model checkpoint.\")\n",
    "else:\n",
    "    print(\"No best model checkpoint found.\")\n",
    "model.eval()"
   ]
  }
 ],
 "metadata": {
  "kernelspec": {
   "display_name": "dsc80",
   "language": "python",
   "name": "python3"
  },
  "language_info": {
   "codemirror_mode": {
    "name": "ipython",
    "version": 3
   },
   "file_extension": ".py",
   "mimetype": "text/x-python",
   "name": "python",
   "nbconvert_exporter": "python",
   "pygments_lexer": "ipython3",
   "version": "3.8.16"
  }
 },
 "nbformat": 4,
 "nbformat_minor": 2
}
