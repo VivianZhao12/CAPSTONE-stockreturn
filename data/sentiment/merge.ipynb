{
 "cells": [
  {
   "cell_type": "code",
   "execution_count": 2,
   "metadata": {},
   "outputs": [],
   "source": [
    "import os\n",
    "import json\n",
    "import pandas as pd\n",
    "from tqdm import tqdm\n",
    "from transformers import AutoTokenizer, AutoModelForSequenceClassification\n",
    "import torch"
   ]
  },
  {
   "cell_type": "code",
   "execution_count": 3,
   "metadata": {},
   "outputs": [
    {
     "data": {
      "text/plain": [
       "BertForSequenceClassification(\n",
       "  (bert): BertModel(\n",
       "    (embeddings): BertEmbeddings(\n",
       "      (word_embeddings): Embedding(30522, 768, padding_idx=0)\n",
       "      (position_embeddings): Embedding(512, 768)\n",
       "      (token_type_embeddings): Embedding(2, 768)\n",
       "      (LayerNorm): LayerNorm((768,), eps=1e-12, elementwise_affine=True)\n",
       "      (dropout): Dropout(p=0.1, inplace=False)\n",
       "    )\n",
       "    (encoder): BertEncoder(\n",
       "      (layer): ModuleList(\n",
       "        (0-11): 12 x BertLayer(\n",
       "          (attention): BertAttention(\n",
       "            (self): BertSdpaSelfAttention(\n",
       "              (query): Linear(in_features=768, out_features=768, bias=True)\n",
       "              (key): Linear(in_features=768, out_features=768, bias=True)\n",
       "              (value): Linear(in_features=768, out_features=768, bias=True)\n",
       "              (dropout): Dropout(p=0.1, inplace=False)\n",
       "            )\n",
       "            (output): BertSelfOutput(\n",
       "              (dense): Linear(in_features=768, out_features=768, bias=True)\n",
       "              (LayerNorm): LayerNorm((768,), eps=1e-12, elementwise_affine=True)\n",
       "              (dropout): Dropout(p=0.1, inplace=False)\n",
       "            )\n",
       "          )\n",
       "          (intermediate): BertIntermediate(\n",
       "            (dense): Linear(in_features=768, out_features=3072, bias=True)\n",
       "            (intermediate_act_fn): GELUActivation()\n",
       "          )\n",
       "          (output): BertOutput(\n",
       "            (dense): Linear(in_features=3072, out_features=768, bias=True)\n",
       "            (LayerNorm): LayerNorm((768,), eps=1e-12, elementwise_affine=True)\n",
       "            (dropout): Dropout(p=0.1, inplace=False)\n",
       "          )\n",
       "        )\n",
       "      )\n",
       "    )\n",
       "    (pooler): BertPooler(\n",
       "      (dense): Linear(in_features=768, out_features=768, bias=True)\n",
       "      (activation): Tanh()\n",
       "    )\n",
       "  )\n",
       "  (dropout): Dropout(p=0.1, inplace=False)\n",
       "  (classifier): Linear(in_features=768, out_features=3, bias=True)\n",
       ")"
      ]
     },
     "execution_count": 3,
     "metadata": {},
     "output_type": "execute_result"
    }
   ],
   "source": [
    "tokenizer = AutoTokenizer.from_pretrained(\"ProsusAI/finbert\")\n",
    "model = AutoModelForSequenceClassification.from_pretrained(\"ProsusAI/finbert\")\n",
    "device = torch.device(\"cuda\" if torch.cuda.is_available() else \"cpu\")\n",
    "model.to(device)"
   ]
  },
  {
   "cell_type": "code",
   "execution_count": 4,
   "metadata": {},
   "outputs": [],
   "source": [
    "def get_sentiment_score(text):\n",
    "    inputs = tokenizer(text, return_tensors=\"pt\", padding=True, truncation=True, max_length=512)\n",
    "    inputs = {k: v.to(device) for k, v in inputs.items()}\n",
    "\n",
    "    with torch.no_grad():\n",
    "        outputs = model(**inputs)\n",
    "        probabilities = torch.nn.functional.softmax(outputs.logits, dim=-1)\n",
    "        probabilities = probabilities.cpu().numpy()[0]\n",
    "\n",
    "    # Calculate score and normalize to [0,1]\n",
    "    sentiment_score = probabilities[0] * 1 + probabilities[1] * -1\n",
    "    normalized_score = (sentiment_score + 1) / 2\n",
    "    return normalized_score\n",
    "\n",
    "def process_dataframe(df, text_col='text', date_col='date', min_count=3):\n",
    "    # 1. Apply sentiment scoring to each row's text\n",
    "    df['sentiment_score'] = df[text_col].apply(get_sentiment_score)\n",
    "\n",
    "    # 2. Group by date\n",
    "    grouped = df.groupby(date_col)\n",
    "\n",
    "    # 3. Compute average sentiment score per date, skipping days with fewer than min_count texts\n",
    "    results = []\n",
    "    for date_val, group_df in grouped:\n",
    "        if len(group_df) < min_count:\n",
    "            print(f\"Skipping {date_val}: Only {len(group_df)} rows found\")\n",
    "            continue\n",
    "        \n",
    "        daily_score = group_df['sentiment_score'].mean()\n",
    "        results.append({\n",
    "            'Date': date_val,\n",
    "            'Sentiment_Score': daily_score\n",
    "        })\n",
    "\n",
    "    # Return as a new DataFrame\n",
    "    result_df = pd.DataFrame(results)\n",
    "    return result_df"
   ]
  },
  {
   "cell_type": "code",
   "execution_count": 11,
   "metadata": {},
   "outputs": [
    {
     "name": "stderr",
     "output_type": "stream",
     "text": [
      "100%|██████████| 757/757 [00:00<00:00, 10399.90it/s]\n"
     ]
    },
    {
     "name": "stdout",
     "output_type": "stream",
     "text": [
      "Done! Results in amzn_daily_sentiment.csv\n"
     ]
    }
   ],
   "source": [
    "# Path to your AMZN folder\n",
    "amzn_folder_path = \"AMZN\"\n",
    "\n",
    "all_texts = []\n",
    "\n",
    "# Loop over each file in the AMZN folder\n",
    "for filename in tqdm(sorted(os.listdir(amzn_folder_path))):\n",
    "    full_path = os.path.join(amzn_folder_path, filename)\n",
    "\n",
    "    # Skip directories or hidden files\n",
    "    if os.path.isdir(full_path):\n",
    "        continue\n",
    "        \n",
    "    # The date is just the filename (e.g. \"2020-06-01\", \"2020-05-31\", etc.)\n",
    "    date_str = filename\n",
    "\n",
    "    # Open and read line by line\n",
    "    with open(full_path, 'r', encoding='utf-8') as f:\n",
    "        for line in f:\n",
    "            # Each line is JSON with a \"text\" field\n",
    "            data = json.loads(line.strip())\n",
    "            text = data.get(\"text\", \"\")\n",
    "                \n",
    "            # Collect into our master list\n",
    "            all_texts.append({\n",
    "                \"text\": text,\n",
    "                \"date\": date_str\n",
    "            })\n",
    "\n",
    "# Create a DataFrame\n",
    "df_all = pd.DataFrame(all_texts)\n",
    "\n",
    "# Process DataFrame to compute daily sentiment\n",
    "result_df = process_dataframe(df_all, text_col='text', date_col='date', min_count=3)\n",
    "\n",
    "# Save results\n",
    "result_df.to_csv(\"amazon_daily_sentiment(using tweets).csv\", index=False)\n",
    "print(\"Done! Results in amzn_daily_sentiment.csv\")"
   ]
  },
  {
   "cell_type": "code",
   "execution_count": 14,
   "metadata": {},
   "outputs": [
    {
     "name": "stderr",
     "output_type": "stream",
     "text": [
      "100%|██████████| 755/755 [00:00<00:00, 7210.17it/s]\n"
     ]
    },
    {
     "name": "stdout",
     "output_type": "stream",
     "text": [
      "Done! Results in cvs_daily_sentiment.csv\n"
     ]
    }
   ],
   "source": [
    "# Path to your AMZN folder\n",
    "amzn_folder_path = \"CVS\"\n",
    "\n",
    "all_texts = []\n",
    "\n",
    "# Loop over each file in the AMZN folder\n",
    "for filename in tqdm(sorted(os.listdir(amzn_folder_path))):\n",
    "    full_path = os.path.join(amzn_folder_path, filename)\n",
    "\n",
    "    # Skip directories or hidden files\n",
    "    if os.path.isdir(full_path):\n",
    "        continue\n",
    "        \n",
    "    # The date is just the filename (e.g. \"2020-06-01\", \"2020-05-31\", etc.)\n",
    "    date_str = filename\n",
    "\n",
    "    # Open and read line by line\n",
    "    with open(full_path, 'r', encoding='utf-8') as f:\n",
    "        for line in f:\n",
    "            # Each line is JSON with a \"text\" field\n",
    "            data = json.loads(line.strip())\n",
    "            text = data.get(\"text\", \"\")\n",
    "                \n",
    "            # Collect into our master list\n",
    "            all_texts.append({\n",
    "                \"text\": text,\n",
    "                \"date\": date_str\n",
    "            })\n",
    "\n",
    "# Create a DataFrame\n",
    "df_all = pd.DataFrame(all_texts)\n",
    "\n",
    "# Process DataFrame to compute daily sentiment\n",
    "result_df = process_dataframe(df_all, text_col='text', date_col='date', min_count=3)\n",
    "\n",
    "# Save results\n",
    "result_df.to_csv(\"cvs_daily_sentiment(using tweets).csv\", index=False)\n",
    "print(\"Done! Results in cvs_daily_sentiment.csv\")"
   ]
  },
  {
   "cell_type": "code",
   "execution_count": 15,
   "metadata": {},
   "outputs": [
    {
     "name": "stderr",
     "output_type": "stream",
     "text": [
      "100%|██████████| 756/756 [00:00<00:00, 5355.81it/s]\n"
     ]
    },
    {
     "name": "stdout",
     "output_type": "stream",
     "text": [
      "Done! Results in google_daily_sentiment.csv\n"
     ]
    }
   ],
   "source": [
    "# Path to your AMZN folder\n",
    "amzn_folder_path = \"GOOG\"\n",
    "\n",
    "all_texts = []\n",
    "\n",
    "# Loop over each file in the AMZN folder\n",
    "for filename in tqdm(sorted(os.listdir(amzn_folder_path))):\n",
    "    full_path = os.path.join(amzn_folder_path, filename)\n",
    "\n",
    "    # Skip directories or hidden files\n",
    "    if os.path.isdir(full_path):\n",
    "        continue\n",
    "        \n",
    "    # The date is just the filename (e.g. \"2020-06-01\", \"2020-05-31\", etc.)\n",
    "    date_str = filename\n",
    "\n",
    "    # Open and read line by line\n",
    "    with open(full_path, 'r', encoding='utf-8') as f:\n",
    "        for line in f:\n",
    "            # Each line is JSON with a \"text\" field\n",
    "            data = json.loads(line.strip())\n",
    "            text = data.get(\"text\", \"\")\n",
    "                \n",
    "            # Collect into our master list\n",
    "            all_texts.append({\n",
    "                \"text\": text,\n",
    "                \"date\": date_str\n",
    "            })\n",
    "\n",
    "# Create a DataFrame\n",
    "df_all = pd.DataFrame(all_texts)\n",
    "\n",
    "# Process DataFrame to compute daily sentiment\n",
    "result_df = process_dataframe(df_all, text_col='text', date_col='date', min_count=3)\n",
    "\n",
    "# Save results\n",
    "result_df.to_csv(\"google_daily_sentiment(using tweets).csv\", index=False)\n",
    "print(\"Done! Results in google_daily_sentiment.csv\")"
   ]
  },
  {
   "cell_type": "code",
   "execution_count": null,
   "metadata": {},
   "outputs": [],
   "source": []
  },
  {
   "cell_type": "code",
   "execution_count": 12,
   "metadata": {},
   "outputs": [],
   "source": [
    "Amazon_df_1 = pd.read_csv(\"amazon_daily_sentiment(using tweets).csv\")\n",
    "Amazon_df_2 = pd.read_csv(\"Amazon_sentiment_data_with_interpolation.csv\")\n",
    "# Merge vertically (stack rows)\n",
    "merged_df = pd.concat([Amazon_df_1, Amazon_df_2], ignore_index=True)\n",
    "merged_df.head()\n",
    "# Save the merged dataset (optional)\n",
    "merged_df.to_csv(\"Amazon_merged_file.csv\", index=False)\n",
    "\n"
   ]
  },
  {
   "cell_type": "code",
   "execution_count": 16,
   "metadata": {},
   "outputs": [],
   "source": [
    "CVS_df_1 = pd.read_csv(\"cvs_daily_sentiment(using tweets).csv\")\n",
    "CVS_df_2 = pd.read_csv(\"CVS_sentiment_data_with_interpolation.csv\")\n",
    "# Merge vertically (stack rows)\n",
    "merged_df = pd.concat([CVS_df_1, CVS_df_2], ignore_index=True)\n",
    "merged_df.head()\n",
    "# Save the merged dataset (optional)\n",
    "merged_df.to_csv(\"CVS_merged_file.csv\", index=False)"
   ]
  },
  {
   "cell_type": "code",
   "execution_count": 17,
   "metadata": {},
   "outputs": [],
   "source": [
    "Google_df_1 = pd.read_csv(\"google_daily_sentiment(using tweets).csv\")\n",
    "Google_df_2 = pd.read_csv(\"Google_sentiment_data_with_interpolation.csv\")\n",
    "# Merge vertically (stack rows)\n",
    "merged_df = pd.concat([Google_df_1, Google_df_2], ignore_index=True)\n",
    "merged_df.head()\n",
    "# Save the merged dataset (optional)\n",
    "merged_df.to_csv(\"Google_merged_file.csv\", index=False)"
   ]
  },
  {
   "cell_type": "code",
   "execution_count": null,
   "metadata": {},
   "outputs": [],
   "source": []
  }
 ],
 "metadata": {
  "kernelspec": {
   "display_name": "Python 3 (ipykernel)",
   "language": "python",
   "name": "python3"
  },
  "language_info": {
   "codemirror_mode": {
    "name": "ipython",
    "version": 3
   },
   "file_extension": ".py",
   "mimetype": "text/x-python",
   "name": "python",
   "nbconvert_exporter": "python",
   "pygments_lexer": "ipython3",
   "version": "3.12.4"
  }
 },
 "nbformat": 4,
 "nbformat_minor": 4
}
