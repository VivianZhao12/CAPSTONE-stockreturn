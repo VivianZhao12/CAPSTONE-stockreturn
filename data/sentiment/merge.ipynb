{
 "cells": [
  {
   "cell_type": "code",
   "execution_count": 1,
   "metadata": {},
   "outputs": [],
   "source": [
    "import pandas as pd"
   ]
  },
  {
   "cell_type": "code",
   "execution_count": 3,
   "metadata": {},
   "outputs": [],
   "source": [
    "Amazon_df_1 = pd.read_csv(\"/Users/jasondai/Desktop/CAPSTONE-stockreturn/data/sentiment/amazon_daily_sentiment(using tweets).csv\")\n",
    "Amazon_df_2 = pd.read_csv(\"/Users/jasondai/Desktop/CAPSTONE-stockreturn/data/sentiment/Amazon_sentiment_data_with_interpolation.csv\")\n",
    "# Merge vertically (stack rows)\n",
    "merged_df = pd.concat([Amazon_df_1, Amazon_df_2], ignore_index=True)\n",
    "merged_df.head()\n",
    "# Save the merged dataset (optional)\n",
    "merged_df.to_csv(\"Amazon_merged_file.csv\", index=False)\n",
    "\n"
   ]
  },
  {
   "cell_type": "code",
   "execution_count": 6,
   "metadata": {},
   "outputs": [],
   "source": [
    "CVS_df_1 = pd.read_csv(\"/Users/jasondai/Desktop/CAPSTONE-stockreturn/data/sentiment/cvs_daily_sentiment(using tweets).csv\")\n",
    "CVS_df_2 = pd.read_csv(\"/Users/jasondai/Desktop/CAPSTONE-stockreturn/data/sentiment/CVS_sentiment_data_with_interpolation.csv\")\n",
    "# Merge vertically (stack rows)\n",
    "merged_df = pd.concat([CVS_df_1, CVS_df_2], ignore_index=True)\n",
    "merged_df.head()\n",
    "# Save the merged dataset (optional)\n",
    "merged_df.to_csv(\"CVS_merged_file.csv\", index=False)"
   ]
  },
  {
   "cell_type": "code",
   "execution_count": 7,
   "metadata": {},
   "outputs": [],
   "source": [
    "Google_df_1 = pd.read_csv(\"/Users/jasondai/Desktop/CAPSTONE-stockreturn/data/sentiment/google_daily_sentiment(using tweets).csv\")\n",
    "Google_df_2 = pd.read_csv(\"/Users/jasondai/Desktop/CAPSTONE-stockreturn/data/sentiment/Google_sentiment_data_with_interpolation.csv\")\n",
    "# Merge vertically (stack rows)\n",
    "merged_df = pd.concat([Google_df_1, Google_df_2], ignore_index=True)\n",
    "merged_df.head()\n",
    "# Save the merged dataset (optional)\n",
    "merged_df.to_csv(\"Google_merged_file.csv\", index=False)"
   ]
  },
  {
   "cell_type": "code",
   "execution_count": null,
   "metadata": {},
   "outputs": [],
   "source": []
  }
 ],
 "metadata": {
  "kernelspec": {
   "display_name": "base",
   "language": "python",
   "name": "python3"
  },
  "language_info": {
   "codemirror_mode": {
    "name": "ipython",
    "version": 3
   },
   "file_extension": ".py",
   "mimetype": "text/x-python",
   "name": "python",
   "nbconvert_exporter": "python",
   "pygments_lexer": "ipython3",
   "version": "3.12.4"
  }
 },
 "nbformat": 4,
 "nbformat_minor": 2
}
