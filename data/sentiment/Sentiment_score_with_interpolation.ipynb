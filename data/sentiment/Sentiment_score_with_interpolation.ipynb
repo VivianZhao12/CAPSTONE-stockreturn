{
 "cells": [
  {
   "cell_type": "code",
   "execution_count": 1,
   "metadata": {},
   "outputs": [],
   "source": [
    "import os\n",
    "import json\n",
    "import pandas as pd\n",
    "from transformers import AutoTokenizer, AutoModelForSequenceClassification\n",
    "import torch\n",
    "from tqdm import tqdm\n",
    "import glob"
   ]
  },
  {
   "cell_type": "markdown",
   "metadata": {},
   "source": [
    "## Initialize FinBERT model"
   ]
  },
  {
   "cell_type": "code",
   "execution_count": 2,
   "metadata": {},
   "outputs": [
    {
     "data": {
      "text/plain": [
       "BertForSequenceClassification(\n",
       "  (bert): BertModel(\n",
       "    (embeddings): BertEmbeddings(\n",
       "      (word_embeddings): Embedding(30522, 768, padding_idx=0)\n",
       "      (position_embeddings): Embedding(512, 768)\n",
       "      (token_type_embeddings): Embedding(2, 768)\n",
       "      (LayerNorm): LayerNorm((768,), eps=1e-12, elementwise_affine=True)\n",
       "      (dropout): Dropout(p=0.1, inplace=False)\n",
       "    )\n",
       "    (encoder): BertEncoder(\n",
       "      (layer): ModuleList(\n",
       "        (0-11): 12 x BertLayer(\n",
       "          (attention): BertAttention(\n",
       "            (self): BertSdpaSelfAttention(\n",
       "              (query): Linear(in_features=768, out_features=768, bias=True)\n",
       "              (key): Linear(in_features=768, out_features=768, bias=True)\n",
       "              (value): Linear(in_features=768, out_features=768, bias=True)\n",
       "              (dropout): Dropout(p=0.1, inplace=False)\n",
       "            )\n",
       "            (output): BertSelfOutput(\n",
       "              (dense): Linear(in_features=768, out_features=768, bias=True)\n",
       "              (LayerNorm): LayerNorm((768,), eps=1e-12, elementwise_affine=True)\n",
       "              (dropout): Dropout(p=0.1, inplace=False)\n",
       "            )\n",
       "          )\n",
       "          (intermediate): BertIntermediate(\n",
       "            (dense): Linear(in_features=768, out_features=3072, bias=True)\n",
       "            (intermediate_act_fn): GELUActivation()\n",
       "          )\n",
       "          (output): BertOutput(\n",
       "            (dense): Linear(in_features=3072, out_features=768, bias=True)\n",
       "            (LayerNorm): LayerNorm((768,), eps=1e-12, elementwise_affine=True)\n",
       "            (dropout): Dropout(p=0.1, inplace=False)\n",
       "          )\n",
       "        )\n",
       "      )\n",
       "    )\n",
       "    (pooler): BertPooler(\n",
       "      (dense): Linear(in_features=768, out_features=768, bias=True)\n",
       "      (activation): Tanh()\n",
       "    )\n",
       "  )\n",
       "  (dropout): Dropout(p=0.1, inplace=False)\n",
       "  (classifier): Linear(in_features=768, out_features=3, bias=True)\n",
       ")"
      ]
     },
     "execution_count": 2,
     "metadata": {},
     "output_type": "execute_result"
    }
   ],
   "source": [
    "tokenizer = AutoTokenizer.from_pretrained(\"ProsusAI/finbert\")\n",
    "model = AutoModelForSequenceClassification.from_pretrained(\"ProsusAI/finbert\")\n",
    "device = torch.device(\"cuda\" if torch.cuda.is_available() else \"cpu\")\n",
    "model.to(device)"
   ]
  },
  {
   "cell_type": "code",
   "execution_count": 3,
   "metadata": {},
   "outputs": [
    {
     "data": {
      "text/html": [
       "<div>\n",
       "<style scoped>\n",
       "    .dataframe tbody tr th:only-of-type {\n",
       "        vertical-align: middle;\n",
       "    }\n",
       "\n",
       "    .dataframe tbody tr th {\n",
       "        vertical-align: top;\n",
       "    }\n",
       "\n",
       "    .dataframe thead th {\n",
       "        text-align: right;\n",
       "    }\n",
       "</style>\n",
       "<table border=\"1\" class=\"dataframe\">\n",
       "  <thead>\n",
       "    <tr style=\"text-align: right;\">\n",
       "      <th></th>\n",
       "      <th>date</th>\n",
       "      <th>subreddit</th>\n",
       "      <th>post</th>\n",
       "    </tr>\n",
       "  </thead>\n",
       "  <tbody>\n",
       "    <tr>\n",
       "      <th>0</th>\n",
       "      <td>2023-06-08</td>\n",
       "      <td>wallstreetbets</td>\n",
       "      <td>I just applied for the AI position. Fingers cr...</td>\n",
       "    </tr>\n",
       "    <tr>\n",
       "      <th>1</th>\n",
       "      <td>2023-06-08</td>\n",
       "      <td>wallstreetbets</td>\n",
       "      <td>\"speak clearly\" \\n\\nThis ain't gonna work at T...</td>\n",
       "    </tr>\n",
       "    <tr>\n",
       "      <th>2</th>\n",
       "      <td>2023-06-08</td>\n",
       "      <td>wallstreetbets</td>\n",
       "      <td>Jim Kramer said AI would replace $24 an hour h...</td>\n",
       "    </tr>\n",
       "    <tr>\n",
       "      <th>3</th>\n",
       "      <td>2023-06-08</td>\n",
       "      <td>wallstreetbets</td>\n",
       "      <td>I inquired about the job opportunities mention...</td>\n",
       "    </tr>\n",
       "    <tr>\n",
       "      <th>4</th>\n",
       "      <td>2023-06-08</td>\n",
       "      <td>wallstreetbets</td>\n",
       "      <td>Gonna be a long time before people understand ...</td>\n",
       "    </tr>\n",
       "  </tbody>\n",
       "</table>\n",
       "</div>"
      ],
      "text/plain": [
       "         date       subreddit  \\\n",
       "0  2023-06-08  wallstreetbets   \n",
       "1  2023-06-08  wallstreetbets   \n",
       "2  2023-06-08  wallstreetbets   \n",
       "3  2023-06-08  wallstreetbets   \n",
       "4  2023-06-08  wallstreetbets   \n",
       "\n",
       "                                                post  \n",
       "0  I just applied for the AI position. Fingers cr...  \n",
       "1  \"speak clearly\" \\n\\nThis ain't gonna work at T...  \n",
       "2  Jim Kramer said AI would replace $24 an hour h...  \n",
       "3  I inquired about the job opportunities mention...  \n",
       "4  Gonna be a long time before people understand ...  "
      ]
     },
     "execution_count": 3,
     "metadata": {},
     "output_type": "execute_result"
    }
   ],
   "source": [
    "Google_df = pd.read_csv(\"reddit_sentiment_data.csv\")\n",
    "Google_df.head()"
   ]
  },
  {
   "cell_type": "markdown",
   "metadata": {},
   "source": [
    "## Google data interpolation"
   ]
  },
  {
   "cell_type": "code",
   "execution_count": 4,
   "metadata": {},
   "outputs": [],
   "source": [
    "def get_sentiment_score(text):\n",
    "    inputs = tokenizer(text, return_tensors=\"pt\", padding=True, truncation=True, max_length=512)\n",
    "    inputs = {k: v.to(device) for k, v in inputs.items()}\n",
    "\n",
    "    with torch.no_grad():\n",
    "        outputs = model(**inputs)\n",
    "        probabilities = torch.nn.functional.softmax(outputs.logits, dim=-1)\n",
    "        probabilities = probabilities.cpu().numpy()[0]\n",
    "\n",
    "    # Calculate score and normalize to [0,1]\n",
    "    sentiment_score = probabilities[0] * 1 + probabilities[1] * -1\n",
    "    normalized_score = (sentiment_score + 1) / 2\n",
    "    return normalized_score\n",
    "\n",
    "def process_dataframe(df, text_col='text', date_col='date', min_count=3):\n",
    "    # 1. Apply sentiment scoring to each row's text\n",
    "    df['sentiment_score'] = df[text_col].apply(get_sentiment_score)\n",
    "\n",
    "    # 2. Group by date\n",
    "    grouped = df.groupby(date_col)\n",
    "\n",
    "    # 3. Compute average sentiment score per date, skipping days with fewer than min_count texts\n",
    "    results = []\n",
    "    for date_val, group_df in grouped:\n",
    "        if len(group_df) < min_count:\n",
    "            print(f\"Skipping {date_val}: Only {len(group_df)} rows found\")\n",
    "            continue\n",
    "        \n",
    "        daily_score = group_df['sentiment_score'].mean()\n",
    "        results.append({\n",
    "            'Date': date_val,\n",
    "            'Sentiment_Score': daily_score\n",
    "        })\n",
    "\n",
    "    # Return as a new DataFrame\n",
    "    result_df = pd.DataFrame(results)\n",
    "    return result_df"
   ]
  },
  {
   "cell_type": "code",
   "execution_count": 5,
   "metadata": {},
   "outputs": [
    {
     "data": {
      "text/html": [
       "<div>\n",
       "<style scoped>\n",
       "    .dataframe tbody tr th:only-of-type {\n",
       "        vertical-align: middle;\n",
       "    }\n",
       "\n",
       "    .dataframe tbody tr th {\n",
       "        vertical-align: top;\n",
       "    }\n",
       "\n",
       "    .dataframe thead th {\n",
       "        text-align: right;\n",
       "    }\n",
       "</style>\n",
       "<table border=\"1\" class=\"dataframe\">\n",
       "  <thead>\n",
       "    <tr style=\"text-align: right;\">\n",
       "      <th></th>\n",
       "      <th>Date</th>\n",
       "      <th>Sentiment_Score</th>\n",
       "    </tr>\n",
       "  </thead>\n",
       "  <tbody>\n",
       "    <tr>\n",
       "      <th>0</th>\n",
       "      <td>2023-06-08</td>\n",
       "      <td>0.425270</td>\n",
       "    </tr>\n",
       "    <tr>\n",
       "      <th>1</th>\n",
       "      <td>2023-07-17</td>\n",
       "      <td>0.448462</td>\n",
       "    </tr>\n",
       "    <tr>\n",
       "      <th>2</th>\n",
       "      <td>2023-07-20</td>\n",
       "      <td>0.539060</td>\n",
       "    </tr>\n",
       "    <tr>\n",
       "      <th>3</th>\n",
       "      <td>2023-07-21</td>\n",
       "      <td>0.462572</td>\n",
       "    </tr>\n",
       "    <tr>\n",
       "      <th>4</th>\n",
       "      <td>2023-08-06</td>\n",
       "      <td>0.517055</td>\n",
       "    </tr>\n",
       "  </tbody>\n",
       "</table>\n",
       "</div>"
      ],
      "text/plain": [
       "         Date  Sentiment_Score\n",
       "0  2023-06-08         0.425270\n",
       "1  2023-07-17         0.448462\n",
       "2  2023-07-20         0.539060\n",
       "3  2023-07-21         0.462572\n",
       "4  2023-08-06         0.517055"
      ]
     },
     "execution_count": 5,
     "metadata": {},
     "output_type": "execute_result"
    }
   ],
   "source": [
    "# Process the dataframe to get daily sentiment\n",
    "daily_sentiment_df = process_dataframe(Google_df, text_col='post', date_col='date', min_count=1)\n",
    "daily_sentiment_df.head()"
   ]
  },
  {
   "cell_type": "code",
   "execution_count": 6,
   "metadata": {},
   "outputs": [
    {
     "name": "stdout",
     "output_type": "stream",
     "text": [
      "          Date  Sentiment_Score\n",
      "0   2023-06-01         0.425270\n",
      "1   2023-06-02         0.425270\n",
      "2   2023-06-03         0.425270\n",
      "3   2023-06-04         0.425270\n",
      "4   2023-06-05         0.425270\n",
      "..         ...              ...\n",
      "609 2025-01-30         0.426807\n",
      "610 2025-01-31         0.359362\n",
      "611 2025-02-01         0.269470\n",
      "612 2025-02-02         0.108197\n",
      "613 2025-02-03         0.415664\n",
      "\n",
      "[614 rows x 2 columns]\n"
     ]
    }
   ],
   "source": [
    "import pandas as pd\n",
    "\n",
    "# 1. Convert Date column to datetime if not already\n",
    "daily_sentiment_df['Date'] = pd.to_datetime(daily_sentiment_df['Date'])\n",
    "df = daily_sentiment_df.copy()\n",
    "# 2. Set Date as index\n",
    "df.set_index('Date', inplace=True)\n",
    "\n",
    "# 3. Reindex the dataframe to include every day in the range\n",
    "#    from the earliest to the latest date\n",
    "full_date_range = pd.date_range(start='2023-06-01', end='2025-02-03', freq='D')\n",
    "df = df.reindex(full_date_range)\n",
    "df.index.name = 'Date'\n",
    "\n",
    "# 4. Interpolate missing values in 'Sentiment_Score'\n",
    "#    'time' interpolation is often best for time series\n",
    "df['Sentiment_Score'] = df['Sentiment_Score'].interpolate(method='time')\n",
    "df['Sentiment_Score'] = df['Sentiment_Score'].ffill().bfill()\n",
    "\n",
    "df.reset_index(inplace=True)\n",
    "print(df)\n"
   ]
  },
  {
   "cell_type": "code",
   "execution_count": 7,
   "metadata": {},
   "outputs": [],
   "source": [
    "df.to_csv(\"Google_sentiment_data_with_interpolation.csv\", index = False)"
   ]
  },
  {
   "cell_type": "markdown",
   "metadata": {},
   "source": [
    "## CSV data interpolation"
   ]
  },
  {
   "cell_type": "code",
   "execution_count": 8,
   "metadata": {},
   "outputs": [
    {
     "data": {
      "text/html": [
       "<div>\n",
       "<style scoped>\n",
       "    .dataframe tbody tr th:only-of-type {\n",
       "        vertical-align: middle;\n",
       "    }\n",
       "\n",
       "    .dataframe tbody tr th {\n",
       "        vertical-align: top;\n",
       "    }\n",
       "\n",
       "    .dataframe thead th {\n",
       "        text-align: right;\n",
       "    }\n",
       "</style>\n",
       "<table border=\"1\" class=\"dataframe\">\n",
       "  <thead>\n",
       "    <tr style=\"text-align: right;\">\n",
       "      <th></th>\n",
       "      <th>date</th>\n",
       "      <th>subreddit</th>\n",
       "      <th>post</th>\n",
       "    </tr>\n",
       "  </thead>\n",
       "  <tbody>\n",
       "    <tr>\n",
       "      <th>0</th>\n",
       "      <td>2023-06-19</td>\n",
       "      <td>pharmacy</td>\n",
       "      <td>I mean.... people just need to stop coming in....</td>\n",
       "    </tr>\n",
       "    <tr>\n",
       "      <th>1</th>\n",
       "      <td>2023-06-19</td>\n",
       "      <td>pharmacy</td>\n",
       "      <td>Charities have volunteers and the last I check...</td>\n",
       "    </tr>\n",
       "    <tr>\n",
       "      <th>2</th>\n",
       "      <td>2023-06-19</td>\n",
       "      <td>pharmacy</td>\n",
       "      <td>All these pharmacists working for free are hur...</td>\n",
       "    </tr>\n",
       "    <tr>\n",
       "      <th>3</th>\n",
       "      <td>2023-07-09</td>\n",
       "      <td>stocks</td>\n",
       "      <td>Iv been and will keep adding to CVS and CI. I ...</td>\n",
       "    </tr>\n",
       "    <tr>\n",
       "      <th>4</th>\n",
       "      <td>2023-07-09</td>\n",
       "      <td>stocks</td>\n",
       "      <td>CVS also owns Aetna</td>\n",
       "    </tr>\n",
       "  </tbody>\n",
       "</table>\n",
       "</div>"
      ],
      "text/plain": [
       "         date subreddit                                               post\n",
       "0  2023-06-19  pharmacy  I mean.... people just need to stop coming in....\n",
       "1  2023-06-19  pharmacy  Charities have volunteers and the last I check...\n",
       "2  2023-06-19  pharmacy  All these pharmacists working for free are hur...\n",
       "3  2023-07-09    stocks  Iv been and will keep adding to CVS and CI. I ...\n",
       "4  2023-07-09    stocks                                CVS also owns Aetna"
      ]
     },
     "execution_count": 8,
     "metadata": {},
     "output_type": "execute_result"
    }
   ],
   "source": [
    "CVS_df = pd.read_csv(\"reddit_sentiment_data_cvs.csv\")\n",
    "CVS_df.head()"
   ]
  },
  {
   "cell_type": "code",
   "execution_count": 9,
   "metadata": {},
   "outputs": [
    {
     "data": {
      "text/html": [
       "<div>\n",
       "<style scoped>\n",
       "    .dataframe tbody tr th:only-of-type {\n",
       "        vertical-align: middle;\n",
       "    }\n",
       "\n",
       "    .dataframe tbody tr th {\n",
       "        vertical-align: top;\n",
       "    }\n",
       "\n",
       "    .dataframe thead th {\n",
       "        text-align: right;\n",
       "    }\n",
       "</style>\n",
       "<table border=\"1\" class=\"dataframe\">\n",
       "  <thead>\n",
       "    <tr style=\"text-align: right;\">\n",
       "      <th></th>\n",
       "      <th>Date</th>\n",
       "      <th>Sentiment_Score</th>\n",
       "    </tr>\n",
       "  </thead>\n",
       "  <tbody>\n",
       "    <tr>\n",
       "      <th>0</th>\n",
       "      <td>2023-06-19</td>\n",
       "      <td>0.296824</td>\n",
       "    </tr>\n",
       "    <tr>\n",
       "      <th>1</th>\n",
       "      <td>2023-07-09</td>\n",
       "      <td>0.557190</td>\n",
       "    </tr>\n",
       "    <tr>\n",
       "      <th>2</th>\n",
       "      <td>2023-07-18</td>\n",
       "      <td>0.883880</td>\n",
       "    </tr>\n",
       "    <tr>\n",
       "      <th>3</th>\n",
       "      <td>2023-07-29</td>\n",
       "      <td>0.346103</td>\n",
       "    </tr>\n",
       "    <tr>\n",
       "      <th>4</th>\n",
       "      <td>2023-08-05</td>\n",
       "      <td>0.327648</td>\n",
       "    </tr>\n",
       "  </tbody>\n",
       "</table>\n",
       "</div>"
      ],
      "text/plain": [
       "         Date  Sentiment_Score\n",
       "0  2023-06-19         0.296824\n",
       "1  2023-07-09         0.557190\n",
       "2  2023-07-18         0.883880\n",
       "3  2023-07-29         0.346103\n",
       "4  2023-08-05         0.327648"
      ]
     },
     "execution_count": 9,
     "metadata": {},
     "output_type": "execute_result"
    }
   ],
   "source": [
    "# Process the dataframe to get daily sentiment\n",
    "daily_sentiment_cvs_df = process_dataframe(CVS_df, text_col='post', date_col='date', min_count=1)\n",
    "daily_sentiment_cvs_df.head()"
   ]
  },
  {
   "cell_type": "code",
   "execution_count": 10,
   "metadata": {},
   "outputs": [
    {
     "name": "stdout",
     "output_type": "stream",
     "text": [
      "          Date  Sentiment_Score\n",
      "0   2023-06-01         0.296824\n",
      "1   2023-06-02         0.296824\n",
      "2   2023-06-03         0.296824\n",
      "3   2023-06-04         0.296824\n",
      "4   2023-06-05         0.296824\n",
      "..         ...              ...\n",
      "609 2025-01-30         0.502613\n",
      "610 2025-01-31         0.502613\n",
      "611 2025-02-01         0.502613\n",
      "612 2025-02-02         0.502613\n",
      "613 2025-02-03         0.502613\n",
      "\n",
      "[614 rows x 2 columns]\n"
     ]
    }
   ],
   "source": [
    "# 1. Convert Date column to datetime if not already\n",
    "daily_sentiment_cvs_df['Date'] = pd.to_datetime(daily_sentiment_cvs_df['Date'])\n",
    "df = daily_sentiment_cvs_df.copy()\n",
    "# 2. Set Date as index\n",
    "df.set_index('Date', inplace=True)\n",
    "\n",
    "# 3. Reindex the dataframe to include every day in the range\n",
    "#    from the earliest to the latest date\n",
    "full_date_range = pd.date_range(start='2023-06-01', end='2025-02-03', freq='D')\n",
    "df = df.reindex(full_date_range)\n",
    "df.index.name = 'Date'\n",
    "\n",
    "# 4. Interpolate missing values in 'Sentiment_Score'\n",
    "#    'time' interpolation is often best for time series\n",
    "df['Sentiment_Score'] = df['Sentiment_Score'].interpolate(method='time')\n",
    "df['Sentiment_Score'] = df['Sentiment_Score'].ffill().bfill()\n",
    "df.reset_index(inplace=True)\n",
    "print(df)"
   ]
  },
  {
   "cell_type": "code",
   "execution_count": 11,
   "metadata": {},
   "outputs": [],
   "source": [
    "df.to_csv(\"CVS_sentiment_data_with_interpolation.csv\", index = False)"
   ]
  },
  {
   "cell_type": "code",
   "execution_count": null,
   "metadata": {},
   "outputs": [],
   "source": []
  }
 ],
 "metadata": {
  "kernelspec": {
   "display_name": "base",
   "language": "python",
   "name": "python3"
  },
  "language_info": {
   "codemirror_mode": {
    "name": "ipython",
    "version": 3
   },
   "file_extension": ".py",
   "mimetype": "text/x-python",
   "name": "python",
   "nbconvert_exporter": "python",
   "pygments_lexer": "ipython3",
   "version": "3.12.4"
  }
 },
 "nbformat": 4,
 "nbformat_minor": 2
}
