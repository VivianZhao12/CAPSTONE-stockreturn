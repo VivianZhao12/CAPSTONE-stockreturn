{
 "cells": [
  {
   "cell_type": "code",
   "execution_count": 24,
   "id": "2d2327b9-6953-4795-b1e5-a26b103ecd9c",
   "metadata": {},
   "outputs": [
    {
     "name": "stdout",
     "output_type": "stream",
     "text": [
      "                         Date   Adj Close       Close        High         Low  \\\n",
      "168 2020-06-01 00:00:00+00:00  123.552002  123.552002  123.846497  122.208504   \n",
      "169 2020-06-02 00:00:00+00:00  123.620499  123.620499  123.676498  122.265503   \n",
      "170 2020-06-03 00:00:00+00:00  123.919998  123.919998  124.400002  123.058502   \n",
      "171 2020-06-04 00:00:00+00:00  123.029999  123.029999  125.376999  122.500504   \n",
      "172 2020-06-05 00:00:00+00:00  124.150002  124.150002  124.432503  121.856499   \n",
      "\n",
      "           Open      Volume Ticker Industry  Daily Return  Sentiment_Score  \n",
      "168  122.400002  58578000.0   AMZN     Tech      0.011739         0.560347  \n",
      "169  123.349998  50598000.0   AMZN     Tech      0.000554         0.523279  \n",
      "170  123.400497  53420000.0   AMZN     Tech      0.002423         0.578770  \n",
      "171  123.871498  58974000.0   AMZN     Tech     -0.007182         0.569062  \n",
      "172  122.225502  66128000.0   AMZN     Tech      0.009103         0.577254  \n",
      "Merged data saved to: /home/yic075/CAPSTONE-stockreturn/data/stock/amzn_stock_wsenti.csv\n"
     ]
    }
   ],
   "source": [
    "import os\n",
    "import pandas as pd\n",
    "\n",
    "# Set paths\n",
    "home_dir = os.path.expanduser('~')\n",
    "stock_path = os.path.join(home_dir, \"CAPSTONE-stockreturn/data/stock/amzn_stock_data.csv\")\n",
    "sentiment_path = os.path.join(home_dir, \"CAPSTONE-stockreturn/data/sentiment/Amazon_merged_file.csv\")\n",
    "\n",
    "# Read the CSV files\n",
    "stock_df = pd.read_csv(stock_path)\n",
    "sentiment_df = pd.read_csv(sentiment_path)\n",
    "\n",
    "# Convert date columns to datetime\n",
    "stock_df['Date'] = pd.to_datetime(stock_df['Date']).dt.tz_localize('UTC')\n",
    "sentiment_df['Date'] = pd.to_datetime(sentiment_df['Date']).dt.tz_localize('UTC')\n",
    "\n",
    "# Keep only Date and Sentiment_Score columns from sentiment data\n",
    "sentiment_df = sentiment_df[['Date', 'Sentiment_Score']]\n",
    "\n",
    "# Merge dataframes on Date\n",
    "merged_df = pd.merge(stock_df, sentiment_df, on='Date', how='outer')\n",
    "\n",
    "# Drop any rows with NaN values\n",
    "merged_df = merged_df.dropna()\n",
    "\n",
    "# Display the first few rows of the merged dataframe\n",
    "print(merged_df.head())\n",
    "\n",
    "# Save the merged data\n",
    "output_path = os.path.join(home_dir, \"CAPSTONE-stockreturn/data/stock/amzn_stock_wsenti.csv\")\n",
    "merged_df.to_csv(output_path, index=False)\n",
    "print(f\"Merged data saved to: {output_path}\")"
   ]
  },
  {
   "cell_type": "code",
   "execution_count": null,
   "id": "6030e603-3803-4485-8d29-b1df11ddd864",
   "metadata": {},
   "outputs": [],
   "source": []
  }
 ],
 "metadata": {
  "kernelspec": {
   "display_name": "Python 3 (ipykernel)",
   "language": "python",
   "name": "python3"
  },
  "language_info": {
   "codemirror_mode": {
    "name": "ipython",
    "version": 3
   },
   "file_extension": ".py",
   "mimetype": "text/x-python",
   "name": "python",
   "nbconvert_exporter": "python",
   "pygments_lexer": "ipython3",
   "version": "3.11.9"
  }
 },
 "nbformat": 4,
 "nbformat_minor": 5
}
