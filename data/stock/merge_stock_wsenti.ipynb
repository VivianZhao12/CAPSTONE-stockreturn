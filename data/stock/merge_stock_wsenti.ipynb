{
 "cells": [
  {
   "cell_type": "code",
   "execution_count": 1,
   "id": "2d2327b9-6953-4795-b1e5-a26b103ecd9c",
   "metadata": {},
   "outputs": [
    {
     "name": "stdout",
     "output_type": "stream",
     "text": [
      "                         Date  Adj Close      Close       High        Low  \\\n",
      "168 2020-06-01 00:00:00+00:00  71.334686  71.591003  71.898003  70.900002   \n",
      "169 2020-06-02 00:00:00+00:00  71.703362  71.960999  71.980499  70.941498   \n",
      "170 2020-06-03 00:00:00+00:00  71.561874  71.819000  72.327599  71.488853   \n",
      "171 2020-06-04 00:00:00+00:00  70.356201  70.609001  71.947998  70.236504   \n",
      "172 2020-06-05 00:00:00+00:00  71.662010  71.919502  72.252502  70.300003   \n",
      "\n",
      "          Open      Volume Ticker Industry  Daily Return  Sentiment_Score  \n",
      "168  70.919502  24342000.0   GOOG     Tech      0.002030         0.501882  \n",
      "169  71.527496  25562000.0   GOOG     Tech      0.005168         0.513355  \n",
      "170  71.915001  25124000.0   GOOG     Tech     -0.001973         0.460719  \n",
      "171  71.519997  29686000.0   GOOG     Tech     -0.016848         0.602549  \n",
      "172  70.658501  34698000.0   GOOG     Tech      0.018560         0.603713  \n",
      "Merged data saved to: /home/rdai/CAPSTONE-stockreturn/data/stock/goog_stock_wsenti.csv\n"
     ]
    }
   ],
   "source": [
    "import os\n",
    "import pandas as pd\n",
    "\n",
    "# Set paths\n",
    "home_dir = os.path.expanduser('~')\n",
    "stock_path = os.path.join(home_dir, \"CAPSTONE-stockreturn/data/stock/goog_stock_data.csv\")\n",
    "sentiment_path = os.path.join(home_dir, \"CAPSTONE-stockreturn/data/sentiment/Google_merged_file.csv\")\n",
    "\n",
    "# Read the CSV files\n",
    "stock_df = pd.read_csv(stock_path)\n",
    "sentiment_df = pd.read_csv(sentiment_path)\n",
    "\n",
    "# Convert date columns to datetime\n",
    "stock_df['Date'] = pd.to_datetime(stock_df['Date']).dt.tz_localize('UTC')\n",
    "sentiment_df['Date'] = pd.to_datetime(sentiment_df['Date']).dt.tz_localize('UTC')\n",
    "\n",
    "# Keep only Date and Sentiment_Score columns from sentiment data\n",
    "sentiment_df = sentiment_df[['Date', 'Sentiment_Score']]\n",
    "\n",
    "# Merge dataframes on Date\n",
    "merged_df = pd.merge(stock_df, sentiment_df, on='Date', how='outer')\n",
    "\n",
    "# Drop any rows with NaN values\n",
    "merged_df = merged_df.dropna()\n",
    "\n",
    "# Display the first few rows of the merged dataframe\n",
    "print(merged_df.head())\n",
    "\n",
    "# Save the merged data\n",
    "output_path = os.path.join(home_dir, \"CAPSTONE-stockreturn/data/stock/goog_stock_wsenti.csv\")\n",
    "merged_df.to_csv(output_path, index=False)\n",
    "print(f\"Merged data saved to: {output_path}\")"
   ]
  },
  {
   "cell_type": "code",
   "execution_count": null,
   "id": "6030e603-3803-4485-8d29-b1df11ddd864",
   "metadata": {},
   "outputs": [],
   "source": []
  }
 ],
 "metadata": {
  "kernelspec": {
   "display_name": "Python 3 (ipykernel)",
   "language": "python",
   "name": "python3"
  },
  "language_info": {
   "codemirror_mode": {
    "name": "ipython",
    "version": 3
   },
   "file_extension": ".py",
   "mimetype": "text/x-python",
   "name": "python",
   "nbconvert_exporter": "python",
   "pygments_lexer": "ipython3",
   "version": "3.11.9"
  }
 },
 "nbformat": 4,
 "nbformat_minor": 5
}
