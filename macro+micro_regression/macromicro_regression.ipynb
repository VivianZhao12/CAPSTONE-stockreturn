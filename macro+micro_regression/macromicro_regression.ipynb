{
 "cells": [
  {
   "cell_type": "code",
   "execution_count": null,
   "metadata": {},
   "outputs": [],
   "source": [
    "# cdnod_feature_select.ipynb results: related features\n",
    "amzn = [\"M1SL\",\"M2SL\",\"INCOME_STATEMENT_operatingIncome\",\"CASH_FLOW_cashflowFromInvestment\",\"CASH_FLOW_capitalExpenditures\",\"CASH_FLOW_operatingCashflow\",\"CASH_FLOW_changeInOperatingLiabilities\",\"BALANCE_SHEET_cashAndCashEquivalentsAtCarryingValue\"]\n",
    "amgn = [\"CASH_FLOW_changeInOperatingAssets\",\"BALANCE_SHEET_longTermInvestments\",\"INCOME_STATEMENT_depreciation\",\"\"]\n",
    "goog = ['INCOME_STATEMENT_incomeTaxExpense','INCOME_STATEMENT_otherNonOperatingIncome','M2SL','CPIAUCSL','CASH_FLOW_paymentsForRepurchaseOfCommonStock','UNRATE','PPIACO','M1SL','CASH_FLOW_cashflowFromFinancing']\n",
    "abt = ['INCOME_STATEMENT_interestAndDebtExpense','CASH_FLOW_proceedsFromRepaymentsOfShortTermDebt','CASH_FLOW_changeInOperatingAssets','CASH_FLOW_depreciationDepletionAndAmortization','CASH_FLOW_changeInReceivables','BALANCE_SHEET_currentDebt']\n",
    "cvs = ['BALANCE_SHEET_totalNonCurrentLiabilities','BALANCE_SHEET_inventory','BALANCE_SHEET_currentDebt','UNRATE','INCOME_STATEMENT_investmentIncomeNet','CASH_FLOW_paymentsForOperatingActivities','BALANCE_SHEET_otherCurrentLiabilities','BALANCE_SHEET_shortTermInvestments', 'CASH_FLOW_depreciationDepletionAndAmortization','INCOME_STATEMENT_nonInterestIncome','INCOME_STATEMENT_interestAndDebtExpense','CASH_FLOW_capitalExpenditures','CASH_FLOW_proceedsFromRepaymentsOfShortTermDebt','BALANCE_SHEET_cashAndCashEquivalentsAtCarryingValue','CASH_FLOW_cashflowFromFinancing','BALANCE_SHEET_propertyPlantEquipment','CASH_FLOW_changeInOperatingAssets','BALANCE_SHEET_otherNonCurrentAssets','CASH_FLOW_changeInOperatingLiabilities','CASH_FLOW_changeInInventory','CASH_FLOW_proceedsFromIssuanceOfLongTermDebtAndCapitalSecuritiesNet' 'BALANCE_SHEET_intangibleAssetsExcludingGoodwill','CASH_FLOW_paymentsForRepurchaseOfCommonStock', 'INCOME_STATEMENT_totalRevenue','CASH_FLOW_cashflowFromInvestment']\n",
    "t = ['BALANCE_SHEET_treasuryStock','BALANCE_SHEET_propertyPlantEquipment', 'BALANCE_SHEET_capitalLeaseObligations','BALANCE_SHEET_inventory','CASH_FLOW_paymentsForRepurchaseOfCommonStock','INCOME_STATEMENT_operatingIncome', 'INCOME_STATEMENT_totalRevenue']\n",
    "\n",
    "# rename macro columns mapping\n",
    "columns={\n",
    "        \"DATE\": \"observation_date\",\n",
    "        \"M2SL\": \"Money_Supply_M2\",\n",
    "        \"M1SL\": \"Money_Supply_M1\",\n",
    "        \"FEDFUNDS\": \"Interest_Rate\",\n",
    "        \"PPIACO\": \"PPI\",\n",
    "        \"RTWEXBGS\": \"Real_Dollar_Index\",\n",
    "        \"CPIAUCSL\": \"CPI\",\n",
    "        \"UNRATE\": \"Unemployment_Rate\",\n",
    "        \"GDP\": \"GDP\"\n",
    "    }"
   ]
  },
  {
   "cell_type": "code",
   "execution_count": null,
   "metadata": {},
   "outputs": [],
   "source": [
    "# data prep\n",
    "\n",
    "def create_df(features, ticker):\n",
    "    \"\"\"\"take in a list of features and creates a dataframe with those features for a specific company\"\"\"\n",
    "    data_path = f'../data/macro_micro/{ticker}_quarterly.csv'\n",
    "    macro_features = ['Money_Supply_2', 'Money_Supply_1', 'Interest_Rate', 'PPI', 'Real_Dollar_Index', 'CPI', 'Unemployment_Rate']\n",
    "    total_features = macro_features + features + ['quarterly_return']"
   ]
  }
 ],
 "metadata": {
  "kernelspec": {
   "display_name": "dsc80",
   "language": "python",
   "name": "python3"
  },
  "language_info": {
   "codemirror_mode": {
    "name": "ipython",
    "version": 3
   },
   "file_extension": ".py",
   "mimetype": "text/x-python",
   "name": "python",
   "nbconvert_exporter": "python",
   "pygments_lexer": "ipython3",
   "version": "3.8.16"
  }
 },
 "nbformat": 4,
 "nbformat_minor": 2
}
