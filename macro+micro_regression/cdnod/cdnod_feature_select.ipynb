{
 "cells": [
  {
   "cell_type": "code",
   "execution_count": 2,
   "metadata": {},
   "outputs": [],
   "source": [
    "import pandas as pd\n",
    "import numpy as np\n",
    "import os\n"
   ]
  },
  {
   "cell_type": "code",
   "execution_count": 21,
   "metadata": {},
   "outputs": [],
   "source": [
    "# Define directories \n",
    "CDNOD_DIR = os.path.join(\"cdnod_graph\")\n",
    "ticker = \"T\" # [\"GOOG\",\"ABT\",\"CVS\",\"T\"]"
   ]
  },
  {
   "cell_type": "code",
   "execution_count": 22,
   "metadata": {},
   "outputs": [],
   "source": [
    "\n",
    "edges = pd.read_csv(os.path.join(CDNOD_DIR, f'{ticker.lower()}_fisherz_M.csv'))\n",
    "causal_graph = {}\n",
    "for _, row in edges.iterrows():\n",
    "    cause, effect = row[\"cause\"], row[\"effect\"]\n",
    "    if effect not in causal_graph:\n",
    "        causal_graph[effect] = []\n",
    "    causal_graph[effect].append(cause)\n",
    "\n",
    "# Step 1: Find direct causes of \"Close\"\n",
    "direct_causes = set(causal_graph.get(\"Close\", []))\n",
    "\n",
    "# Step 2: Find indirect causes recursively\n",
    "indirect_causes = set()\n",
    "\n",
    "def find_indirect_causes(current_vars):\n",
    "    \"\"\" Recursively finds indirect causes by checking parents of current_vars \"\"\"\n",
    "    new_vars = set()\n",
    "    for var in current_vars:\n",
    "        if var in causal_graph:  # Check if it has parents\n",
    "            parents = causal_graph[var]\n",
    "            for parent in parents:\n",
    "                if parent not in direct_causes and parent not in indirect_causes:  # Avoid duplicates\n",
    "                    new_vars.add(parent)\n",
    "    \n",
    "    if new_vars:  # If new indirect causes are found, continue searching deeper\n",
    "        indirect_causes.update(new_vars)\n",
    "        find_indirect_causes(new_vars)\n",
    "\n",
    "# Start recursive search for indirect causes\n",
    "find_indirect_causes(direct_causes)\n",
    "\n",
    "# Step 3: Convert to DataFrame and display\n",
    "result_edges = pd.DataFrame({\n",
    "    \"Variable\": list(direct_causes) + list(indirect_causes),\n",
    "    \"Effect Type\": [\"Direct\"] * len(direct_causes) + [\"Indirect\"] * len(indirect_causes)\n",
    "})\n"
   ]
  },
  {
   "cell_type": "code",
   "execution_count": null,
   "metadata": {},
   "outputs": [],
   "source": [
    "result_edges['Variable']"
   ]
  },
  {
   "cell_type": "markdown",
   "metadata": {},
   "source": [
    "# Outputs"
   ]
  },
  {
   "cell_type": "code",
   "execution_count": 55,
   "metadata": {},
   "outputs": [],
   "source": [
    "amzn = [\"M1SL\",\"M2SL\",\"INCOME_STATEMENT_operatingIncome\",\"CASH_FLOW_cashflowFromInvestment\",\"CASH_FLOW_capitalExpenditures\",\"CASH_FLOW_operatingCashflow\",\"CASH_FLOW_changeInOperatingLiabilities\",\"BALANCE_SHEET_cashAndCashEquivalentsAtCarryingValue\"]"
   ]
  },
  {
   "cell_type": "code",
   "execution_count": null,
   "metadata": {},
   "outputs": [],
   "source": [
    "amgn = [\"CASH_FLOW_changeInOperatingAssets\",\"BALANCE_SHEET_longTermInvestments\",\"INCOME_STATEMENT_depreciation\",\"\"]"
   ]
  },
  {
   "cell_type": "code",
   "execution_count": 25,
   "metadata": {},
   "outputs": [],
   "source": [
    "goog = ['INCOME_STATEMENT_incomeTaxExpense',\n",
    " 'INCOME_STATEMENT_otherNonOperatingIncome',\n",
    " 'M2SL',\n",
    " 'CPIAUCSL',\n",
    " 'CASH_FLOW_paymentsForRepurchaseOfCommonStock',\n",
    " 'UNRATE',\n",
    " 'PPIACO',\n",
    " 'M1SL',\n",
    " 'CASH_FLOW_cashflowFromFinancing']"
   ]
  },
  {
   "cell_type": "code",
   "execution_count": 26,
   "metadata": {},
   "outputs": [],
   "source": [
    "abt = ['INCOME_STATEMENT_interestAndDebtExpense',\n",
    " 'CASH_FLOW_proceedsFromRepaymentsOfShortTermDebt',\n",
    " 'CASH_FLOW_changeInOperatingAssets',\n",
    " 'CASH_FLOW_depreciationDepletionAndAmortization',\n",
    " 'CASH_FLOW_changeInReceivables',\n",
    " 'BALANCE_SHEET_currentDebt']"
   ]
  },
  {
   "cell_type": "code",
   "execution_count": 27,
   "metadata": {},
   "outputs": [],
   "source": [
    "cvs = ['BALANCE_SHEET_totalNonCurrentLiabilities',\n",
    " 'BALANCE_SHEET_inventory',\n",
    " 'BALANCE_SHEET_currentDebt',\n",
    " 'UNRATE',\n",
    " 'INCOME_STATEMENT_investmentIncomeNet',\n",
    " 'CASH_FLOW_paymentsForOperatingActivities',\n",
    " 'BALANCE_SHEET_otherCurrentLiabilities',\n",
    " 'BALANCE_SHEET_shortTermInvestments',\n",
    " 'CASH_FLOW_depreciationDepletionAndAmortization',\n",
    " 'INCOME_STATEMENT_nonInterestIncome',\n",
    " 'INCOME_STATEMENT_interestAndDebtExpense',\n",
    " 'CASH_FLOW_capitalExpenditures',\n",
    " 'CASH_FLOW_proceedsFromRepaymentsOfShortTermDebt',\n",
    " 'BALANCE_SHEET_cashAndCashEquivalentsAtCarryingValue',\n",
    " 'CASH_FLOW_cashflowFromFinancing',\n",
    " 'BALANCE_SHEET_propertyPlantEquipment',\n",
    " 'CASH_FLOW_changeInOperatingAssets',\n",
    " 'BALANCE_SHEET_otherNonCurrentAssets',\n",
    " 'CASH_FLOW_changeInOperatingLiabilities',\n",
    " 'CASH_FLOW_changeInInventory',\n",
    " 'CASH_FLOW_proceedsFromIssuanceOfLongTermDebtAndCapitalSecuritiesNet',\n",
    " 'BALANCE_SHEET_intangibleAssetsExcludingGoodwill',\n",
    " 'CASH_FLOW_paymentsForRepurchaseOfCommonStock',\n",
    " 'INCOME_STATEMENT_totalRevenue',\n",
    " 'CASH_FLOW_cashflowFromInvestment']"
   ]
  },
  {
   "cell_type": "code",
   "execution_count": 28,
   "metadata": {},
   "outputs": [],
   "source": [
    "t = ['BALANCE_SHEET_treasuryStock',\n",
    " 'BALANCE_SHEET_propertyPlantEquipment',\n",
    " 'BALANCE_SHEET_capitalLeaseObligations',\n",
    " 'BALANCE_SHEET_inventory',\n",
    " 'CASH_FLOW_paymentsForRepurchaseOfCommonStock',\n",
    " 'INCOME_STATEMENT_operatingIncome',\n",
    " 'INCOME_STATEMENT_totalRevenue']"
   ]
  },
  {
   "cell_type": "code",
   "execution_count": null,
   "metadata": {},
   "outputs": [],
   "source": []
  }
 ],
 "metadata": {
  "kernelspec": {
   "display_name": "dsc80",
   "language": "python",
   "name": "python3"
  },
  "language_info": {
   "codemirror_mode": {
    "name": "ipython",
    "version": 3
   },
   "file_extension": ".py",
   "mimetype": "text/x-python",
   "name": "python",
   "nbconvert_exporter": "python",
   "pygments_lexer": "ipython3",
   "version": "3.8.16"
  }
 },
 "nbformat": 4,
 "nbformat_minor": 2
}
