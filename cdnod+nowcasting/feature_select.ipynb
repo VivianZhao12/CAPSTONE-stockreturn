{
 "cells": [
  {
   "cell_type": "code",
   "execution_count": 64,
   "metadata": {},
   "outputs": [],
   "source": [
    "import pandas as pd\n",
    "import numpy as np\n",
    "import os\n"
   ]
  },
  {
   "cell_type": "code",
   "execution_count": 65,
   "metadata": {},
   "outputs": [],
   "source": [
    "# Define directories \n",
    "CDNOD_DIR = os.path.join(\"cdnod_graph\")"
   ]
  },
  {
   "cell_type": "code",
   "execution_count": 66,
   "metadata": {},
   "outputs": [],
   "source": [
    "for ticker in [\"GOOG\",\"ABT\",\"CVS\",\"T\"]:\n",
    "    edges = pd.read_csv(os.path.join(CDNOD_DIR, f'{ticker.lower()}_fisherz_M.csv'))\n",
    "    causal_graph = {}\n",
    "    for _, row in edges.iterrows():\n",
    "        cause, effect = row[\"cause\"], row[\"effect\"]\n",
    "        if effect not in causal_graph:\n",
    "            causal_graph[effect] = []\n",
    "        causal_graph[effect].append(cause)\n",
    "\n",
    "    # Step 1: Find direct causes of \"Close\"\n",
    "    direct_causes = set(causal_graph.get(\"Close\", []))\n",
    "\n",
    "    # Step 2: Find indirect causes recursively\n",
    "    indirect_causes = set()\n",
    "\n",
    "    def find_indirect_causes(current_vars):\n",
    "        \"\"\" Recursively finds indirect causes by checking parents of current_vars \"\"\"\n",
    "        new_vars = set()\n",
    "        for var in current_vars:\n",
    "            if var in causal_graph:  # Check if it has parents\n",
    "                parents = causal_graph[var]\n",
    "                for parent in parents:\n",
    "                    if parent not in direct_causes and parent not in indirect_causes:  # Avoid duplicates\n",
    "                        new_vars.add(parent)\n",
    "        \n",
    "        if new_vars:  # If new indirect causes are found, continue searching deeper\n",
    "            indirect_causes.update(new_vars)\n",
    "            find_indirect_causes(new_vars)\n",
    "\n",
    "    # Start recursive search for indirect causes\n",
    "    find_indirect_causes(direct_causes)\n",
    "\n",
    "    # Step 3: Convert to DataFrame and display\n",
    "    result_edges = pd.DataFrame({\n",
    "        \"Variable\": list(direct_causes) + list(indirect_causes),\n",
    "        \"Effect Type\": [\"Direct\"] * len(direct_causes) + [\"Indirect\"] * len(indirect_causes)\n",
    "    })\n"
   ]
  },
  {
   "cell_type": "code",
   "execution_count": 63,
   "metadata": {},
   "outputs": [
    {
     "data": {
      "text/html": [
       "<div>\n",
       "<style scoped>\n",
       "    .dataframe tbody tr th:only-of-type {\n",
       "        vertical-align: middle;\n",
       "    }\n",
       "\n",
       "    .dataframe tbody tr th {\n",
       "        vertical-align: top;\n",
       "    }\n",
       "\n",
       "    .dataframe thead th {\n",
       "        text-align: right;\n",
       "    }\n",
       "</style>\n",
       "<table border=\"1\" class=\"dataframe\">\n",
       "  <thead>\n",
       "    <tr style=\"text-align: right;\">\n",
       "      <th></th>\n",
       "      <th>Variable</th>\n",
       "      <th>Effect Type</th>\n",
       "    </tr>\n",
       "  </thead>\n",
       "  <tbody>\n",
       "    <tr>\n",
       "      <th>0</th>\n",
       "      <td>CASH_FLOW_changeInOperatingAssets</td>\n",
       "      <td>Direct</td>\n",
       "    </tr>\n",
       "    <tr>\n",
       "      <th>1</th>\n",
       "      <td>INCOME_STATEMENT_interestAndDebtExpense</td>\n",
       "      <td>Direct</td>\n",
       "    </tr>\n",
       "    <tr>\n",
       "      <th>2</th>\n",
       "      <td>CASH_FLOW_proceedsFromRepaymentsOfShortTermDebt</td>\n",
       "      <td>Direct</td>\n",
       "    </tr>\n",
       "    <tr>\n",
       "      <th>3</th>\n",
       "      <td>CASH_FLOW_changeInReceivables</td>\n",
       "      <td>Indirect</td>\n",
       "    </tr>\n",
       "    <tr>\n",
       "      <th>4</th>\n",
       "      <td>CASH_FLOW_depreciationDepletionAndAmortization</td>\n",
       "      <td>Indirect</td>\n",
       "    </tr>\n",
       "    <tr>\n",
       "      <th>5</th>\n",
       "      <td>BALANCE_SHEET_currentDebt</td>\n",
       "      <td>Indirect</td>\n",
       "    </tr>\n",
       "  </tbody>\n",
       "</table>\n",
       "</div>"
      ],
      "text/plain": [
       "                                          Variable Effect Type\n",
       "0                CASH_FLOW_changeInOperatingAssets      Direct\n",
       "1          INCOME_STATEMENT_interestAndDebtExpense      Direct\n",
       "2  CASH_FLOW_proceedsFromRepaymentsOfShortTermDebt      Direct\n",
       "3                    CASH_FLOW_changeInReceivables    Indirect\n",
       "4   CASH_FLOW_depreciationDepletionAndAmortization    Indirect\n",
       "5                        BALANCE_SHEET_currentDebt    Indirect"
      ]
     },
     "execution_count": 63,
     "metadata": {},
     "output_type": "execute_result"
    }
   ],
   "source": [
    "result_edges"
   ]
  },
  {
   "cell_type": "code",
   "execution_count": 55,
   "metadata": {},
   "outputs": [],
   "source": [
    "amzn = [\"M1SL\",\"M2SL\",\"INCOME_STATEMENT_operatingIncome\",\"CASH_FLOW_cashflowFromInvestment\",\"CASH_FLOW_capitalExpenditures\",\"CASH_FLOW_operatingCashflow\",\"CASH_FLOW_changeInOperatingLiabilities\",\"BALANCE_SHEET_cashAndCashEquivalentsAtCarryingValue\"]"
   ]
  },
  {
   "cell_type": "code",
   "execution_count": null,
   "metadata": {},
   "outputs": [],
   "source": [
    "amgn = [\"CASH_FLOW_changeInOperatingAssets\",\"BALANCE_SHEET_longTermInvestments\",\"INCOME_STATEMENT_depreciation\",\"\"]"
   ]
  }
 ],
 "metadata": {
  "kernelspec": {
   "display_name": "dsc80",
   "language": "python",
   "name": "python3"
  },
  "language_info": {
   "codemirror_mode": {
    "name": "ipython",
    "version": 3
   },
   "file_extension": ".py",
   "mimetype": "text/x-python",
   "name": "python",
   "nbconvert_exporter": "python",
   "pygments_lexer": "ipython3",
   "version": "3.8.16"
  }
 },
 "nbformat": 4,
 "nbformat_minor": 2
}
