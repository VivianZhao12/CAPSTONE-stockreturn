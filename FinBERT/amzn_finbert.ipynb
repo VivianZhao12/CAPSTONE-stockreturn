{
 "cells": [
  {
   "cell_type": "markdown",
   "metadata": {},
   "source": [
    "Fin-Bert"
   ]
  },
  {
   "cell_type": "code",
   "execution_count": 2,
   "metadata": {},
   "outputs": [
    {
     "name": "stderr",
     "output_type": "stream",
     "text": [
      "The cache for model files in Transformers v4.22.0 has been updated. Migrating your old cache. This is a one-time only operation. You can interrupt this and resume the migration later on by calling `transformers.utils.move_cache()`.\n"
     ]
    },
    {
     "data": {
      "application/vnd.jupyter.widget-view+json": {
       "model_id": "a2a8c4c19f354a1c9eff9bed5c1b4abc",
       "version_major": 2,
       "version_minor": 0
      },
      "text/plain": [
       "0it [00:00, ?it/s]"
      ]
     },
     "metadata": {},
     "output_type": "display_data"
    }
   ],
   "source": [
    "import os\n",
    "import json\n",
    "import pandas as pd\n",
    "from transformers import AutoTokenizer, AutoModelForSequenceClassification\n",
    "import torch\n",
    "from tqdm import tqdm\n",
    "import glob"
   ]
  },
  {
   "cell_type": "code",
   "execution_count": 3,
   "metadata": {},
   "outputs": [
    {
     "data": {
      "application/vnd.jupyter.widget-view+json": {
       "model_id": "676051b71132420e9e51872579ae7d22",
       "version_major": 2,
       "version_minor": 0
      },
      "text/plain": [
       "tokenizer_config.json:   0%|          | 0.00/252 [00:00<?, ?B/s]"
      ]
     },
     "metadata": {},
     "output_type": "display_data"
    },
    {
     "data": {
      "application/vnd.jupyter.widget-view+json": {
       "model_id": "2f1efd250ec3449cb6f814f30db7dc8f",
       "version_major": 2,
       "version_minor": 0
      },
      "text/plain": [
       "config.json:   0%|          | 0.00/758 [00:00<?, ?B/s]"
      ]
     },
     "metadata": {},
     "output_type": "display_data"
    },
    {
     "data": {
      "application/vnd.jupyter.widget-view+json": {
       "model_id": "d5478b9a08db4c429a9ec06fc9f3dae8",
       "version_major": 2,
       "version_minor": 0
      },
      "text/plain": [
       "vocab.txt:   0%|          | 0.00/232k [00:00<?, ?B/s]"
      ]
     },
     "metadata": {},
     "output_type": "display_data"
    },
    {
     "data": {
      "application/vnd.jupyter.widget-view+json": {
       "model_id": "8a0bb5c7d2fd4ad390df2452fb2072ce",
       "version_major": 2,
       "version_minor": 0
      },
      "text/plain": [
       "special_tokens_map.json:   0%|          | 0.00/112 [00:00<?, ?B/s]"
      ]
     },
     "metadata": {},
     "output_type": "display_data"
    },
    {
     "data": {
      "application/vnd.jupyter.widget-view+json": {
       "model_id": "24cf7e84243f450a8f6ef62c3de81ef6",
       "version_major": 2,
       "version_minor": 0
      },
      "text/plain": [
       "pytorch_model.bin:   0%|          | 0.00/438M [00:00<?, ?B/s]"
      ]
     },
     "metadata": {},
     "output_type": "display_data"
    },
    {
     "data": {
      "text/plain": [
       "BertForSequenceClassification(\n",
       "  (bert): BertModel(\n",
       "    (embeddings): BertEmbeddings(\n",
       "      (word_embeddings): Embedding(30522, 768, padding_idx=0)\n",
       "      (position_embeddings): Embedding(512, 768)\n",
       "      (token_type_embeddings): Embedding(2, 768)\n",
       "      (LayerNorm): LayerNorm((768,), eps=1e-12, elementwise_affine=True)\n",
       "      (dropout): Dropout(p=0.1, inplace=False)\n",
       "    )\n",
       "    (encoder): BertEncoder(\n",
       "      (layer): ModuleList(\n",
       "        (0-11): 12 x BertLayer(\n",
       "          (attention): BertAttention(\n",
       "            (self): BertSdpaSelfAttention(\n",
       "              (query): Linear(in_features=768, out_features=768, bias=True)\n",
       "              (key): Linear(in_features=768, out_features=768, bias=True)\n",
       "              (value): Linear(in_features=768, out_features=768, bias=True)\n",
       "              (dropout): Dropout(p=0.1, inplace=False)\n",
       "            )\n",
       "            (output): BertSelfOutput(\n",
       "              (dense): Linear(in_features=768, out_features=768, bias=True)\n",
       "              (LayerNorm): LayerNorm((768,), eps=1e-12, elementwise_affine=True)\n",
       "              (dropout): Dropout(p=0.1, inplace=False)\n",
       "            )\n",
       "          )\n",
       "          (intermediate): BertIntermediate(\n",
       "            (dense): Linear(in_features=768, out_features=3072, bias=True)\n",
       "            (intermediate_act_fn): GELUActivation()\n",
       "          )\n",
       "          (output): BertOutput(\n",
       "            (dense): Linear(in_features=3072, out_features=768, bias=True)\n",
       "            (LayerNorm): LayerNorm((768,), eps=1e-12, elementwise_affine=True)\n",
       "            (dropout): Dropout(p=0.1, inplace=False)\n",
       "          )\n",
       "        )\n",
       "      )\n",
       "    )\n",
       "    (pooler): BertPooler(\n",
       "      (dense): Linear(in_features=768, out_features=768, bias=True)\n",
       "      (activation): Tanh()\n",
       "    )\n",
       "  )\n",
       "  (dropout): Dropout(p=0.1, inplace=False)\n",
       "  (classifier): Linear(in_features=768, out_features=3, bias=True)\n",
       ")"
      ]
     },
     "execution_count": 3,
     "metadata": {},
     "output_type": "execute_result"
    },
    {
     "data": {
      "application/vnd.jupyter.widget-view+json": {
       "model_id": "01effeb5df034c0ea31f418b23080837",
       "version_major": 2,
       "version_minor": 0
      },
      "text/plain": [
       "model.safetensors:   0%|          | 0.00/438M [00:00<?, ?B/s]"
      ]
     },
     "metadata": {},
     "output_type": "display_data"
    }
   ],
   "source": [
    "tokenizer = AutoTokenizer.from_pretrained(\"ProsusAI/finbert\")\n",
    "model = AutoModelForSequenceClassification.from_pretrained(\"ProsusAI/finbert\")\n",
    "device = torch.device(\"cuda\" if torch.cuda.is_available() else \"cpu\")\n",
    "model.to(device)"
   ]
  },
  {
   "cell_type": "code",
   "execution_count": 23,
   "metadata": {},
   "outputs": [],
   "source": [
    "def get_sentiment_score(text):\n",
    "    # calculate single tweet sentiment score\n",
    "    inputs = tokenizer(text, return_tensors=\"pt\", padding=True, truncation=True, max_length=512)\n",
    "    inputs = {k: v.to(device) for k, v in inputs.items()}\n",
    "    \n",
    "    with torch.no_grad():\n",
    "        outputs = model(**inputs)\n",
    "        probabilities = torch.nn.functional.softmax(outputs.logits, dim=-1)\n",
    "        probabilities = probabilities.cpu().numpy()[0]\n",
    "    \n",
    "    # Calculate score and normalize to [0,1]\n",
    "    sentiment_score = probabilities[0] * 1 + probabilities[1] * -1\n",
    "    normalized_score = (sentiment_score + 1) / 2\n",
    "    return normalized_score\n",
    "\n",
    "def process_daily_file(file_path):\n",
    "    \"\"\"Process a single day's file of tweets\"\"\"\n",
    "    try:\n",
    "        date = os.path.basename(file_path).split('.')[0]  # filename format: YYYY-MM-DD.json\n",
    "        tweets = []\n",
    "        with open(file_path, 'r', encoding='utf-8') as f:\n",
    "            for line in f:\n",
    "                try:\n",
    "                    tweet = json.loads(line.strip())\n",
    "                    tweets.append(tweet['text'])\n",
    "                except (json.JSONDecodeError, KeyError) as e:\n",
    "                    continue\n",
    "        \n",
    "        # Skip if too few tweets\n",
    "        if len(tweets) < 3:  # Minimum threshold can be adjusted\n",
    "            print(f\"Skipping {date}: Only {len(tweets)} tweets found\")\n",
    "            return None\n",
    "        \n",
    "        # Calculate sentiment scores for all tweets\n",
    "        sentiment_scores = []\n",
    "        for tweet in tweets:\n",
    "            score = get_sentiment_score(tweet)\n",
    "            sentiment_scores.append(score)\n",
    "        \n",
    "        # Calculate daily average sentiment\n",
    "        daily_score = sum(sentiment_scores) / len(sentiment_scores)\n",
    "        \n",
    "        return pd.DataFrame({\n",
    "            'Date': [date],\n",
    "            'Sentiment_Score': [daily_score]\n",
    "        })\n",
    "        \n",
    "    except Exception as e:\n",
    "        print(f\"Error processing file {file_path}: {str(e)}\")\n",
    "        return None"
   ]
  },
  {
   "cell_type": "code",
   "execution_count": 25,
   "metadata": {},
   "outputs": [
    {
     "name": "stdout",
     "output_type": "stream",
     "text": [
      "Looking for files in: D:\\STUDY\\UCSD\\WI25\\DSC180B\\Bigdata23\\tweet\\AMZN\n",
      "\n",
      "Found 251 files matching '2022*' pattern\n"
     ]
    },
    {
     "name": "stderr",
     "output_type": "stream",
     "text": [
      "Processing files:   0%|          | 0/251 [00:00<?, ?it/s]"
     ]
    },
    {
     "name": "stderr",
     "output_type": "stream",
     "text": [
      "Processing files: 100%|██████████| 251/251 [02:59<00:00,  1.40it/s]"
     ]
    },
    {
     "name": "stdout",
     "output_type": "stream",
     "text": [
      "Analysis complete. Results saved to D:\\STUDY\\UCSD\\WI25\\DSC180B\\Bigdata23\\tweet\\AMZN\\amazon_daily_sentiment_2022.csv\n",
      "Processed 251 days of data\n",
      "\n",
      "First few rows of the output:\n",
      "         Date  Sentiment_Score\n",
      "0  2022-01-03         0.483215\n",
      "1  2022-01-04         0.484946\n",
      "2  2022-01-05         0.377005\n",
      "3  2022-01-06         0.527850\n",
      "4  2022-01-07         0.465256\n"
     ]
    },
    {
     "name": "stderr",
     "output_type": "stream",
     "text": [
      "\n"
     ]
    }
   ],
   "source": [
    "def main():\n",
    "    # Set data directory path\n",
    "    data_dir = r\"D:\\STUDY\\UCSD\\WI25\\DSC180B\\CAPSTONE-stockreturn\\FinBERT\\data\\AMZN\"\n",
    "    \n",
    "    # Get all 2022 files\n",
    "    files = glob.glob(os.path.join(data_dir, '2022*'))\n",
    "    print(f\"Looking for files in: {data_dir}\")\n",
    "    print(f\"\\nFound {len(files)} files matching '2022*' pattern\")\n",
    "    \n",
    "    # Process all files\n",
    "    all_results = []\n",
    "    for file_path in tqdm(files, desc=\"Processing files\"):\n",
    "        result_df = process_daily_file(file_path)\n",
    "        if result_df is not None:\n",
    "            all_results.append(result_df)\n",
    "    \n",
    "    if not all_results:\n",
    "        raise ValueError(\"No data was processed successfully\")\n",
    "    final_df = pd.concat(all_results, ignore_index=True)\n",
    "    final_df = final_df.sort_values('Date')\n",
    "    \n",
    "    # Save to CSV in the same directory\n",
    "    output_path = os.path.join(data_dir, 'amazon_daily_sentiment_2022.csv')\n",
    "    final_df.to_csv(output_path, index=False)\n",
    "    print(f\"Analysis complete. Results saved to {output_path}\")\n",
    "    print(f\"Processed {len(final_df)} days of data\")\n",
    "    \n",
    "    # Display sample of output\n",
    "    print(\"\\nFirst few rows of the output:\")\n",
    "    print(final_df.head())\n",
    "\n",
    "if __name__ == \"__main__\":\n",
    "    main()"
   ]
  },
  {
   "cell_type": "code",
   "execution_count": 19,
   "metadata": {},
   "outputs": [],
   "source": [
    "import seaborn"
   ]
  },
  {
   "cell_type": "code",
   "execution_count": 26,
   "metadata": {},
   "outputs": [],
   "source": [
    "ss2022 = pd.read_csv(\"D:/STUDY/UCSD/WI25/DSC180B/CAPSTONE-stockreturn/FinBERT/amazon_daily_sentiment_2022.csv\")"
   ]
  },
  {
   "cell_type": "code",
   "execution_count": 27,
   "metadata": {},
   "outputs": [
    {
     "data": {
      "text/plain": [
       "<Axes: xlabel='Sentiment_Score', ylabel='Count'>"
      ]
     },
     "execution_count": 27,
     "metadata": {},
     "output_type": "execute_result"
    },
    {
     "data": {
      "image/png": "[encoded data removed]",
      "text/plain": [
       "<Figure size 640x480 with 1 Axes>"
      ]
     },
     "metadata": {},
     "output_type": "display_data"
    }
   ],
   "source": [
    "seaborn.histplot(ss2022['Sentiment_Score'])"
   ]
  },
  {
   "cell_type": "code",
   "execution_count": null,
   "metadata": {},
   "outputs": [],
   "source": []
  }
 ],
 "metadata": {
  "kernelspec": {
   "display_name": "Python 3",
   "language": "python",
   "name": "python3"
  },
  "language_info": {
   "codemirror_mode": {
    "name": "ipython",
    "version": 3
   },
   "file_extension": ".py",
   "mimetype": "text/x-python",
   "name": "python",
   "nbconvert_exporter": "python",
   "pygments_lexer": "ipython3",
   "version": "3.9.2"
  }
 },
 "nbformat": 4,
 "nbformat_minor": 2
}
